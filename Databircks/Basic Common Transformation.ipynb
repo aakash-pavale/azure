{
 "cells": [
  {
   "cell_type": "markdown",
   "metadata": {
    "application/vnd.databricks.v1+cell": {
     "cellMetadata": {
      "byteLimit": 2048000,
      "rowLimit": 10000
     },
     "inputWidgets": {},
     "nuid": "6987a7a6-3052-4bf1-870d-06369bbbc824",
     "showTitle": false,
     "title": ""
    }
   },
   "source": [
    "<span style=\"color:orange\">\n",
    " <h2> Databircks-Assignemnt 1 (Basic Common Transformation)\n",
    "</span>"
   ]
  },
  {
   "cell_type": "code",
   "execution_count": 0,
   "metadata": {
    "application/vnd.databricks.v1+cell": {
     "cellMetadata": {
      "byteLimit": 2048000,
      "rowLimit": 10000
     },
     "inputWidgets": {},
     "nuid": "9362fcf4-238e-446c-b285-e7b43b7ddc9b",
     "showTitle": false,
     "title": ""
    }
   },
   "outputs": [],
   "source": [
    "from pyspark.sql.functions import *"
   ]
  },
  {
   "cell_type": "code",
   "execution_count": 0,
   "metadata": {
    "application/vnd.databricks.v1+cell": {
     "cellMetadata": {
      "byteLimit": 2048000,
      "rowLimit": 10000
     },
     "inputWidgets": {},
     "nuid": "d6d70d7f-7352-44ba-b928-a16842b3ac03",
     "showTitle": false,
     "title": ""
    }
   },
   "outputs": [
    {
     "output_type": "stream",
     "name": "stdout",
     "output_type": "stream",
     "text": [
      "root\n |-- id: integer (nullable = true)\n |-- first_name: string (nullable = true)\n |-- last_name: string (nullable = true)\n |-- email: string (nullable = true)\n |-- gender: string (nullable = true)\n |-- salary: integer (nullable = true)\n |-- creationDate: timestamp (nullable = true)\n |-- bonus: double (nullable = true)\n\n+---+----------+---------+--------------------+------+------+-------------------+--------+\n| id|first_name|last_name|               email|gender|salary|       creationDate|   bonus|\n+---+----------+---------+--------------------+------+------+-------------------+--------+\n|  1|    Valene|   Ingley|vingley0@livejour...|Female| 44104|1957-09-09 16:44:40|    null|\n|  2|  Lynnelle|    Hurll| lhurll1@answers.com|Female|112411|1907-05-10 17:38:56|    null|\n|  3|   Miranda|    Train|   mtrain2@imgur.com|Female| 91073|1941-01-24 16:05:23|12875.54|\n|  4|    Dulsea|     Foss|dfoss3@dagondesig...|Female|193291|1942-05-09 20:59:39|    null|\n|  5|    Anatol|  Dunklee| adunklee4@google.de|  Male| 22175|1950-07-26 16:28:00| 1432.12|\n|  6|     Baily|   Antony| bantony5@sfgate.com|  Male|127337|1913-10-14 11:25:33|    null|\n|  7|    Eunice|   Cardus|ecardus6@scientif...|Female|136574|1901-11-02 15:09:47|38676.94|\n|  8|  Aubrette|  Lippett| alippett7@nifty.com|Female|165713|1919-12-16 08:20:42|60150.66|\n|  9|   Sibylla|Sickamore|ssickamore8@faceb...|Female|107243|2020-03-15 15:00:30|    null|\n| 10|      null|   Altree|paltree9@dropbox.com|Female|197594|1975-06-21 23:27:12|72533.37|\n| 11|      Coop|    Richt|   crichta@sogou.com|  Male| 19964|1939-02-13 16:18:24|56973.41|\n| 12|  Giuseppe|  Scimoni|gscimonib@craigsl...|  Male|176531|1967-04-06 07:23:03|    null|\n| 13|    Lovell|  Iorizzo|liorizzoc@cpanel.net|  Male|189150|1949-06-06 16:25:20| 41474.8|\n| 14|       Deb|    Mogra|   dmograd@bbc.co.uk|Female|197829|1997-07-27 14:55:52|46528.57|\n| 15|  Hastings| Jelliman|hjellimane@histat...|  Male|179296|1915-07-05 07:02:06|80194.64|\n| 16|     Josee|   Burnep|    jburnepf@php.net|  null| 78569|1923-11-08 20:59:14|88925.13|\n| 17|     Gilly|   Fownes|gfownesg@redcross...|Female|  2527|1946-07-30 21:10:57|    null|\n| 18|      null|Schruyers|lschruyersh@desde...|  Male|109936|1979-06-16 01:12:48|37243.09|\n| 19|     Maris|Chatelain| mchatelaini@unc.edu|Female|190047|2008-01-11 17:16:21|76469.65|\n| 20|    Casper|  Aughtie|    caughtiej@vk.com|  Male| 38689|1982-04-06 05:13:49| 80404.8|\n+---+----------+---------+--------------------+------+------+-------------------+--------+\nonly showing top 20 rows\n\n"
     ]
    }
   ],
   "source": [
    "df = spark.read.csv(\"dbfs:/FileStore/shared_uploads/aakashpavale8877@gmail.com/EmployeeData_HhTLiz9LdC_2JpHdxGvrY.csv\", header = True, inferSchema = True, sep = ',')\n",
    "df.printSchema()\n",
    "df.show()"
   ]
  },
  {
   "cell_type": "markdown",
   "metadata": {
    "application/vnd.databricks.v1+cell": {
     "cellMetadata": {
      "byteLimit": 2048000,
      "rowLimit": 10000
     },
     "inputWidgets": {},
     "nuid": "5b3ac98b-ae08-42ca-83aa-2c68621fd1c3",
     "showTitle": false,
     "title": ""
    }
   },
   "source": [
    "<b>How many employees are in the input file?"
   ]
  },
  {
   "cell_type": "code",
   "execution_count": 0,
   "metadata": {
    "application/vnd.databricks.v1+cell": {
     "cellMetadata": {
      "byteLimit": 2048000,
      "rowLimit": 10000
     },
     "inputWidgets": {},
     "nuid": "ab3fead4-1dbe-4381-8bdf-5cec62470790",
     "showTitle": false,
     "title": ""
    }
   },
   "outputs": [
    {
     "output_type": "stream",
     "name": "stdout",
     "output_type": "stream",
     "text": [
      "+---------------------+\n|unique employee count|\n+---------------------+\n|                  970|\n+---------------------+\n\n"
     ]
    }
   ],
   "source": [
    "# Write your code using the Spark Function\n",
    "no_of_employees = df.select(countDistinct('id').alias('unique employee count'))\n",
    "no_of_employees.show()"
   ]
  },
  {
   "cell_type": "markdown",
   "metadata": {
    "application/vnd.databricks.v1+cell": {
     "cellMetadata": {
      "byteLimit": 2048000,
      "rowLimit": 10000
     },
     "inputWidgets": {},
     "nuid": "7ceaa11f-bcb6-4659-a6bc-d4c4983acfb2",
     "showTitle": false,
     "title": ""
    }
   },
   "source": [
    "<b> What is the average salary of all the employees?"
   ]
  },
  {
   "cell_type": "code",
   "execution_count": 0,
   "metadata": {
    "application/vnd.databricks.v1+cell": {
     "cellMetadata": {
      "byteLimit": 2048000,
      "rowLimit": 10000
     },
     "inputWidgets": {},
     "nuid": "7d8dccf8-21cf-4e27-9e29-6874cef7cc5b",
     "showTitle": true,
     "title": "Discx"
    }
   },
   "outputs": [
    {
     "output_type": "stream",
     "name": "stdout",
     "output_type": "stream",
     "text": [
      "+------------------+\n|    average salary|\n+------------------+\n|100011.38125665602|\n+------------------+\n\n"
     ]
    }
   ],
   "source": [
    "# Write your code using the Spark Function\n",
    "avg_salary = df.select(avg('salary').alias('average salary'))\n",
    "avg_salary.show()"
   ]
  },
  {
   "cell_type": "markdown",
   "metadata": {
    "application/vnd.databricks.v1+cell": {
     "cellMetadata": {
      "byteLimit": 2048000,
      "rowLimit": 10000
     },
     "inputWidgets": {},
     "nuid": "808bdc43-42d2-4945-9bf4-99ff444ee1fa",
     "showTitle": false,
     "title": ""
    }
   },
   "source": [
    "<b> How many male and female employees are there in the input file?"
   ]
  },
  {
   "cell_type": "code",
   "execution_count": 0,
   "metadata": {
    "application/vnd.databricks.v1+cell": {
     "cellMetadata": {
      "byteLimit": 2048000,
      "rowLimit": 10000
     },
     "inputWidgets": {},
     "nuid": "0d890aac-43dd-49fb-9ac2-999158e327c9",
     "showTitle": false,
     "title": ""
    }
   },
   "outputs": [
    {
     "output_type": "stream",
     "name": "stdout",
     "output_type": "stream",
     "text": [
      "+------+-----+\n|gender|Count|\n+------+-----+\n|Female|  490|\n|  Male|  452|\n+------+-----+\n\n"
     ]
    }
   ],
   "source": [
    "# Write your code using the Spark Function\n",
    "df.filter(df.gender != 'null').groupBy('gender').agg(countDistinct('id').alias(\"Count\")).show()"
   ]
  },
  {
   "cell_type": "markdown",
   "metadata": {
    "application/vnd.databricks.v1+cell": {
     "cellMetadata": {
      "byteLimit": 2048000,
      "rowLimit": 10000
     },
     "inputWidgets": {},
     "nuid": "a5e18b7e-62b5-4410-b160-18f25ae651a2",
     "showTitle": false,
     "title": ""
    }
   },
   "source": [
    "<b> Who is the employee with the highest salary?"
   ]
  },
  {
   "cell_type": "code",
   "execution_count": 0,
   "metadata": {
    "application/vnd.databricks.v1+cell": {
     "cellMetadata": {
      "byteLimit": 2048000,
      "rowLimit": 10000
     },
     "inputWidgets": {},
     "nuid": "947dd3b0-5b8d-4535-a115-0f459ae8f1ab",
     "showTitle": false,
     "title": ""
    }
   },
   "outputs": [
    {
     "output_type": "stream",
     "name": "stdout",
     "output_type": "stream",
     "text": [
      "+---+----------+---------+--------------------+------+------+-------------------+-------+\n| id|first_name|last_name|               email|gender|salary|       creationDate|  bonus|\n+---+----------+---------+--------------------+------+------+-------------------+-------+\n|976|   Alfonso|Hanbridge|ahanbridger3@webs...|  Male|199846|2023-03-22 00:49:36|6248.58|\n+---+----------+---------+--------------------+------+------+-------------------+-------+\n\n"
     ]
    }
   ],
   "source": [
    "# Write your code using the Spark Function\n",
    "highest_salary = df.orderBy(desc('salary')).select('id', 'first_name', 'last_name', 'email', 'gender', 'salary', 'creationDate', 'bonus').limit(1)\n",
    "highest_salary.show()"
   ]
  },
  {
   "cell_type": "markdown",
   "metadata": {
    "application/vnd.databricks.v1+cell": {
     "cellMetadata": {
      "byteLimit": 2048000,
      "rowLimit": 10000
     },
     "inputWidgets": {},
     "nuid": "a481d489-9076-491d-9413-afcb2f9bbb1a",
     "showTitle": false,
     "title": ""
    }
   },
   "source": [
    "<b> What is the total bonus amount paid to all the employees?"
   ]
  },
  {
   "cell_type": "code",
   "execution_count": 0,
   "metadata": {
    "application/vnd.databricks.v1+cell": {
     "cellMetadata": {
      "byteLimit": 2048000,
      "rowLimit": 10000
     },
     "inputWidgets": {},
     "nuid": "546e94d4-e4f9-4713-bf37-79b5c9be164c",
     "showTitle": false,
     "title": ""
    }
   },
   "outputs": [
    {
     "output_type": "stream",
     "name": "stdout",
     "output_type": "stream",
     "text": [
      "+--------------------+\n|         total_bonus|\n+--------------------+\n|4.2504812300000034E7|\n+--------------------+\n\n"
     ]
    }
   ],
   "source": [
    "# Write your code using the Spark Function\n",
    "total_bonus = df.select(sum('bonus').alias('total_bonus'))\n",
    "total_bonus.show()"
   ]
  },
  {
   "cell_type": "markdown",
   "metadata": {
    "application/vnd.databricks.v1+cell": {
     "cellMetadata": {
      "byteLimit": 2048000,
      "rowLimit": 10000
     },
     "inputWidgets": {},
     "nuid": "4a0f2ec1-08df-4ebf-937d-f9917e196791",
     "showTitle": false,
     "title": ""
    }
   },
   "source": [
    "d\n",
    "<b> How many employees were hired in the year 2020?"
   ]
  },
  {
   "cell_type": "code",
   "execution_count": 0,
   "metadata": {
    "application/vnd.databricks.v1+cell": {
     "cellMetadata": {
      "byteLimit": 2048000,
      "rowLimit": 10000
     },
     "inputWidgets": {},
     "nuid": "65dbcf66-0cea-4387-aa8b-60a88e540f8e",
     "showTitle": false,
     "title": ""
    }
   },
   "outputs": [
    {
     "output_type": "stream",
     "name": "stdout",
     "output_type": "stream",
     "text": [
      "+---+----------+---------+------------------+\n| id|first_name|last_name|year(creationDate)|\n+---+----------+---------+------------------+\n|  9|   Sibylla|Sickamore|              2020|\n| 58|     Leigh|     null|              2020|\n|174|   Arleyne|    Chant|              2020|\n|328|      Ange|     null|              2020|\n|372|     Elsey|  Gossage|              2020|\n|389|   Frasier|  Yurikov|              2020|\n|472|    Stormy|    Losty|              2020|\n+---+----------+---------+------------------+\n\n"
     ]
    }
   ],
   "source": [
    "# Write your code using the Spark Function\n",
    "emp_2020 = df.filter(year('creationDate') == 2020).select('id','first_name','last_name',year('creationDate'))\n",
    "emp_2020.show()"
   ]
  },
  {
   "cell_type": "markdown",
   "metadata": {
    "application/vnd.databricks.v1+cell": {
     "cellMetadata": {
      "byteLimit": 2048000,
      "rowLimit": 10000
     },
     "inputWidgets": {},
     "nuid": "1119178d-1eb5-4308-afa1-4024d6c9e369",
     "showTitle": false,
     "title": ""
    }
   },
   "source": [
    "d\n",
    "<b> Who are the top 5 employees with the highest salaries?"
   ]
  },
  {
   "cell_type": "code",
   "execution_count": 0,
   "metadata": {
    "application/vnd.databricks.v1+cell": {
     "cellMetadata": {
      "byteLimit": 2048000,
      "rowLimit": 10000
     },
     "inputWidgets": {},
     "nuid": "63bddabe-f12c-4579-9f2d-e0cfe8e79022",
     "showTitle": false,
     "title": ""
    }
   },
   "outputs": [
    {
     "output_type": "stream",
     "name": "stdout",
     "output_type": "stream",
     "text": [
      "+---+----------+---------+--------------------+------+------+-------------------+--------+\n| id|first_name|last_name|               email|gender|salary|       creationDate|   bonus|\n+---+----------+---------+--------------------+------+------+-------------------+--------+\n|976|   Alfonso|Hanbridge|ahanbridger3@webs...|  Male|199846|2023-03-22 00:49:36| 6248.58|\n| 52|    Dermot|Letchford|dletchford1f@auda...|  Male|199484|1902-05-28 14:22:21|19573.02|\n|849|    Jennee|Ballingal|jballingalnk@priv...|Female|198873|               null|10658.73|\n|753|  Griswold|   Kocher|gkocherkw@cornell...|  Male|198688|1934-10-09 19:59:30|    null|\n|715|   Baryram|  Whitham|bwhithamju@alexa.com|  Male|198672|1935-11-26 15:18:39|16299.88|\n+---+----------+---------+--------------------+------+------+-------------------+--------+\n\n"
     ]
    }
   ],
   "source": [
    "# Write your code using the Spark Function\n",
    "highest_salary_top_5 = df.orderBy(desc('salary')).select('id', 'first_name', 'last_name', 'email', 'gender', 'salary', 'creationDate', 'bonus').limit(5)\n",
    "highest_salary_top_5.show()"
   ]
  },
  {
   "cell_type": "markdown",
   "metadata": {
    "application/vnd.databricks.v1+cell": {
     "cellMetadata": {
      "byteLimit": 2048000,
      "rowLimit": 10000
     },
     "inputWidgets": {},
     "nuid": "a86448f9-436d-42c7-b889-52015d495ed9",
     "showTitle": false,
     "title": ""
    }
   },
   "source": [
    "d\n",
    "<b> What is the total salary paid to all male employees?"
   ]
  },
  {
   "cell_type": "code",
   "execution_count": 0,
   "metadata": {
    "application/vnd.databricks.v1+cell": {
     "cellMetadata": {
      "byteLimit": 2048000,
      "rowLimit": 10000
     },
     "inputWidgets": {},
     "nuid": "dc23260b-46d1-4f02-8c4a-a8a8c85e926b",
     "showTitle": false,
     "title": ""
    }
   },
   "outputs": [
    {
     "output_type": "stream",
     "name": "stdout",
     "output_type": "stream",
     "text": [
      "+-----------+\n|sum(salary)|\n+-----------+\n|   44253777|\n+-----------+\n\n"
     ]
    }
   ],
   "source": [
    "# Write your code using the Spark Function\n",
    "total_sal_male = df.filter(\"gender = 'Male'\").select(sum('salary'))\n",
    "total_sal_male.show()"
   ]
  },
  {
   "cell_type": "markdown",
   "metadata": {
    "application/vnd.databricks.v1+cell": {
     "cellMetadata": {
      "byteLimit": 2048000,
      "rowLimit": 10000
     },
     "inputWidgets": {},
     "nuid": "f884bb3b-36a4-4ef9-9a89-634eff8ee781",
     "showTitle": false,
     "title": ""
    }
   },
   "source": [
    "d\n",
    "<b> Who is the employee with the highest bonus amount?"
   ]
  },
  {
   "cell_type": "code",
   "execution_count": 0,
   "metadata": {
    "application/vnd.databricks.v1+cell": {
     "cellMetadata": {
      "byteLimit": 2048000,
      "rowLimit": 10000
     },
     "inputWidgets": {},
     "nuid": "297aa8ea-7ffa-4db0-90b3-ad73ecb512bb",
     "showTitle": false,
     "title": ""
    }
   },
   "outputs": [
    {
     "output_type": "stream",
     "name": "stdout",
     "output_type": "stream",
     "text": [
      "+---+----------+---------+--------+\n| id|first_name|last_name|   bonus|\n+---+----------+---------+--------+\n|915|    Franni| Chessell|99993.16|\n+---+----------+---------+--------+\n\n"
     ]
    }
   ],
   "source": [
    "# Write your code using the Spark Function# Write your code using the Spark Function\n",
    "highest_bonus = df.orderBy(desc('bonus')).select('id', 'first_name', 'last_name','bonus').limit(1)\n",
    "highest_bonus.show()"
   ]
  },
  {
   "cell_type": "markdown",
   "metadata": {
    "application/vnd.databricks.v1+cell": {
     "cellMetadata": {
      "byteLimit": 2048000,
      "rowLimit": 10000
     },
     "inputWidgets": {},
     "nuid": "3c22077b-bf59-4c3d-bc9e-fca18a0873c2",
     "showTitle": false,
     "title": ""
    }
   },
   "source": [
    "d\n",
    "<b> What is the earliest creation date of any employee in the input file?"
   ]
  },
  {
   "cell_type": "code",
   "execution_count": 0,
   "metadata": {
    "application/vnd.databricks.v1+cell": {
     "cellMetadata": {
      "byteLimit": 2048000,
      "rowLimit": 10000
     },
     "inputWidgets": {},
     "nuid": "8de25cdb-8bee-4652-bebb-73a9549771ab",
     "showTitle": false,
     "title": ""
    }
   },
   "outputs": [
    {
     "output_type": "stream",
     "name": "stdout",
     "output_type": "stream",
     "text": [
      "+-------------------+\n|       creationDate|\n+-------------------+\n|1900-07-08 06:23:29|\n+-------------------+\n\n"
     ]
    }
   ],
   "source": [
    "# Write your code using the Spark Function\n",
    "ear_creation_date = df.orderBy(asc_nulls_last('creationDate')).select('creationDate').limit(1)\n",
    "ear_creation_date.show()"
   ]
  },
  {
   "cell_type": "markdown",
   "metadata": {
    "application/vnd.databricks.v1+cell": {
     "cellMetadata": {
      "byteLimit": 2048000,
      "rowLimit": 10000
     },
     "inputWidgets": {},
     "nuid": "7a6d437e-7233-44c7-93be-c3f86dfcd55c",
     "showTitle": false,
     "title": ""
    }
   },
   "source": [
    "d\n",
    "<b> How many employees have a salary greater than 100,000?"
   ]
  },
  {
   "cell_type": "code",
   "execution_count": 0,
   "metadata": {
    "application/vnd.databricks.v1+cell": {
     "cellMetadata": {
      "byteLimit": 2048000,
      "rowLimit": 10000
     },
     "inputWidgets": {},
     "nuid": "1befcd43-2d94-4a98-a9d6-660c8f301948",
     "showTitle": false,
     "title": ""
    }
   },
   "outputs": [
    {
     "output_type": "stream",
     "name": "stdout",
     "output_type": "stream",
     "text": [
      "+-----------------------+\n|Salarygreaterthan100000|\n+-----------------------+\n|                    468|\n+-----------------------+\n\n"
     ]
    }
   ],
   "source": [
    "# Write your code using the Spark Function\n",
    "sal = df.filter(df.salary > 100000).select(countDistinct('id').alias('Salarygreaterthan100000'))\n",
    "sal.show()"
   ]
  },
  {
   "cell_type": "markdown",
   "metadata": {
    "application/vnd.databricks.v1+cell": {
     "cellMetadata": {
      "byteLimit": 2048000,
      "rowLimit": 10000
     },
     "inputWidgets": {},
     "nuid": "315bf294-cbea-4284-be44-57d5132069f7",
     "showTitle": false,
     "title": ""
    }
   },
   "source": [
    "d\n",
    "<b> Who is the female employee with the highest salary?"
   ]
  },
  {
   "cell_type": "code",
   "execution_count": 0,
   "metadata": {
    "application/vnd.databricks.v1+cell": {
     "cellMetadata": {
      "byteLimit": 2048000,
      "rowLimit": 10000
     },
     "inputWidgets": {},
     "nuid": "88e1a535-bf47-4ae0-8306-4083a68a2b85",
     "showTitle": false,
     "title": ""
    }
   },
   "outputs": [
    {
     "output_type": "stream",
     "name": "stdout",
     "output_type": "stream",
     "text": [
      "+---+----------+---------+------+\n| id|first_name|last_name|salary|\n+---+----------+---------+------+\n|849|    Jennee|Ballingal|198873|\n+---+----------+---------+------+\n\n"
     ]
    }
   ],
   "source": [
    "# Write your code using the Spark Function\n",
    "female_highest_salary = df.filter(df.gender == 'Female').orderBy(desc('salary')).select('id', 'first_name', 'last_name','salary').limit(1)\n",
    "female_highest_salary.show()"
   ]
  },
  {
   "cell_type": "markdown",
   "metadata": {
    "application/vnd.databricks.v1+cell": {
     "cellMetadata": {
      "byteLimit": 2048000,
      "rowLimit": 10000
     },
     "inputWidgets": {},
     "nuid": "9b87cf7d-fde1-44f0-98c5-e84e320677c7",
     "showTitle": false,
     "title": ""
    }
   },
   "source": [
    "d\n",
    "<b> What is the total bonus amount paid to female employees?"
   ]
  },
  {
   "cell_type": "code",
   "execution_count": 0,
   "metadata": {
    "application/vnd.databricks.v1+cell": {
     "cellMetadata": {
      "byteLimit": 2048000,
      "rowLimit": 10000
     },
     "inputWidgets": {},
     "nuid": "0e790a6b-6394-4ba0-90e2-37141ae90d1f",
     "showTitle": false,
     "title": ""
    }
   },
   "outputs": [
    {
     "output_type": "stream",
     "name": "stdout",
     "output_type": "stream",
     "text": [
      "+-----------------------------------+\n|Total bonus paid to Female Employee|\n+-----------------------------------+\n|                      2.132315359E7|\n+-----------------------------------+\n\n"
     ]
    }
   ],
   "source": [
    "# Write your code using the Spark Function\n",
    "total_bonus_Female = df.filter(\"gender = 'Female'\").select(sum('bonus').alias('Total bonus paid to Female Employee'))\n",
    "total_bonus_Female.show()"
   ]
  },
  {
   "cell_type": "markdown",
   "metadata": {
    "application/vnd.databricks.v1+cell": {
     "cellMetadata": {
      "byteLimit": 2048000,
      "rowLimit": 10000
     },
     "inputWidgets": {},
     "nuid": "48c93dbe-67e5-460e-bab0-804b533ff977",
     "showTitle": false,
     "title": ""
    }
   },
   "source": [
    "d\n",
    "<b> How many employees have a salary between 50,000 and 75,000?"
   ]
  },
  {
   "cell_type": "code",
   "execution_count": 0,
   "metadata": {
    "application/vnd.databricks.v1+cell": {
     "cellMetadata": {
      "byteLimit": 2048000,
      "rowLimit": 10000
     },
     "inputWidgets": {},
     "nuid": "847bc2e8-bb32-48aa-8fa6-2ab8f55cea80",
     "showTitle": false,
     "title": ""
    }
   },
   "outputs": [
    {
     "output_type": "stream",
     "name": "stdout",
     "output_type": "stream",
     "text": [
      "+------------------------------+\n|Salary between 50000 and 75000|\n+------------------------------+\n|                           111|\n+------------------------------+\n\n"
     ]
    }
   ],
   "source": [
    "# Write your code using the Spark Function\n",
    "sal_between = df.filter(\"salary >= 50000 and salary <= 75000\").select(countDistinct('id').alias('Salary between 50000 and 75000'))\n",
    "sal_between.show()"
   ]
  },
  {
   "cell_type": "markdown",
   "metadata": {
    "application/vnd.databricks.v1+cell": {
     "cellMetadata": {
      "byteLimit": 2048000,
      "rowLimit": 10000
     },
     "inputWidgets": {},
     "nuid": "d5e9e2a9-4133-407e-bc52-c332538b3a1b",
     "showTitle": false,
     "title": ""
    }
   },
   "source": [
    "d\n",
    "<b> Who are the top 10 employees with the highest bonuses?"
   ]
  },
  {
   "cell_type": "code",
   "execution_count": 0,
   "metadata": {
    "application/vnd.databricks.v1+cell": {
     "cellMetadata": {
      "byteLimit": 2048000,
      "rowLimit": 10000
     },
     "inputWidgets": {},
     "nuid": "f67bd07c-76c9-44d1-9a64-1d7db068fc7e",
     "showTitle": false,
     "title": ""
    }
   },
   "outputs": [
    {
     "output_type": "stream",
     "name": "stdout",
     "output_type": "stream",
     "text": [
      "+---+----------+----------+--------+\n| id|first_name| last_name|   bonus|\n+---+----------+----------+--------+\n|915|    Franni|  Chessell|99993.16|\n|830|     Asher|     Dupoy|99985.66|\n|199|    Lovell|    Ingall|99932.43|\n|537|  Sullivan|    Gyenes| 99845.6|\n|653|    Jessie|     Grgic|99650.89|\n|896|     Nicol|    Bruton|99581.27|\n|819|     Nonah|  Tompkiss|99046.27|\n|382|      Andy|     Morch|99033.16|\n|160|      Swen|Hinrichsen|98721.92|\n|635|   Dorotea|     Kynan|98639.27|\n+---+----------+----------+--------+\n\n"
     ]
    }
   ],
   "source": [
    "# Write your code using the Spark Function\n",
    "Top_highest_bonus= df.orderBy(desc('bonus')).select('id', 'first_name', 'last_name','bonus').limit(10)\n",
    "Top_highest_bonus.show()"
   ]
  },
  {
   "cell_type": "markdown",
   "metadata": {
    "application/vnd.databricks.v1+cell": {
     "cellMetadata": {
      "byteLimit": 2048000,
      "rowLimit": 10000
     },
     "inputWidgets": {},
     "nuid": "625e6480-0d48-428e-8bc5-23c64431af3d",
     "showTitle": false,
     "title": ""
    }
   },
   "source": [
    "d\n",
    "<b> What is the latest creation date of any employee in the input file?"
   ]
  },
  {
   "cell_type": "code",
   "execution_count": 0,
   "metadata": {
    "application/vnd.databricks.v1+cell": {
     "cellMetadata": {
      "byteLimit": 2048000,
      "rowLimit": 10000
     },
     "inputWidgets": {},
     "nuid": "3296515c-2b05-4f9d-96c9-c9ea595044d4",
     "showTitle": false,
     "title": ""
    }
   },
   "outputs": [
    {
     "output_type": "stream",
     "name": "stdout",
     "output_type": "stream",
     "text": [
      "+-------------------+\n|  max(creationDate)|\n+-------------------+\n|2023-03-24 14:50:38|\n+-------------------+\n\n"
     ]
    }
   ],
   "source": [
    "# Write your code using the Spark Function\n",
    "latest_date = df.agg(max('creationDate'))\n",
    "latest_date.show()"
   ]
  },
  {
   "cell_type": "markdown",
   "metadata": {
    "application/vnd.databricks.v1+cell": {
     "cellMetadata": {
      "byteLimit": 2048000,
      "rowLimit": 10000
     },
     "inputWidgets": {},
     "nuid": "8b3c7eb8-65ec-47d1-94e9-80d9e4bc5f1c",
     "showTitle": false,
     "title": ""
    }
   },
   "source": [
    "d\n",
    "<b> How many employees have a salary less than 50,000?"
   ]
  },
  {
   "cell_type": "code",
   "execution_count": 0,
   "metadata": {
    "application/vnd.databricks.v1+cell": {
     "cellMetadata": {
      "byteLimit": 2048000,
      "rowLimit": 10000
     },
     "inputWidgets": {},
     "nuid": "f82b5d00-7e44-4076-8080-826d0c11ffb9",
     "showTitle": false,
     "title": ""
    }
   },
   "outputs": [
    {
     "output_type": "stream",
     "name": "stdout",
     "output_type": "stream",
     "text": [
      "+----------------------------------+\n|countofEmployeeSalaryLessthan50000|\n+----------------------------------+\n|                               228|\n+----------------------------------+\n\n"
     ]
    }
   ],
   "source": [
    "# Write your code using the Spark Function\n",
    "sal_less = df.filter(df.salary < 50000).select(countDistinct('id').alias('countofEmployeeSalaryLessthan50000'))\n",
    "sal_less.show()"
   ]
  },
  {
   "cell_type": "markdown",
   "metadata": {
    "application/vnd.databricks.v1+cell": {
     "cellMetadata": {
      "byteLimit": 2048000,
      "rowLimit": 10000
     },
     "inputWidgets": {},
     "nuid": "31cc824e-183d-4cf1-ad6b-71126c3fa92e",
     "showTitle": false,
     "title": ""
    }
   },
   "source": [
    "d\n",
    "<b> Who are the top 3 employees with the lowest salaries?"
   ]
  },
  {
   "cell_type": "code",
   "execution_count": 0,
   "metadata": {
    "application/vnd.databricks.v1+cell": {
     "cellMetadata": {
      "byteLimit": 2048000,
      "rowLimit": 10000
     },
     "inputWidgets": {},
     "nuid": "c36e0b45-f426-4870-bb83-8200e4491f43",
     "showTitle": false,
     "title": ""
    }
   },
   "outputs": [
    {
     "output_type": "stream",
     "name": "stdout",
     "output_type": "stream",
     "text": [
      "+---+----------+----------+------+\n| id|first_name| last_name|salary|\n+---+----------+----------+------+\n|809|  Hercules|Pollington|   109|\n|381|     Olwen| O'Scanlon|   184|\n|542| Heriberto|      null|   479|\n+---+----------+----------+------+\n\n"
     ]
    }
   ],
   "source": [
    "# Write your code using the Spark Function\n",
    "lowest_sal = df.orderBy(asc_nulls_last('salary')).select('id', 'first_name', 'last_name','salary').limit(3)\n",
    "lowest_sal.show()"
   ]
  },
  {
   "cell_type": "markdown",
   "metadata": {
    "application/vnd.databricks.v1+cell": {
     "cellMetadata": {
      "byteLimit": 2048000,
      "rowLimit": 10000
     },
     "inputWidgets": {},
     "nuid": "d2a0ab65-4e44-4edd-8781-3c2d9723c9fd",
     "showTitle": false,
     "title": ""
    }
   },
   "source": [
    "d\n",
    "<b> What is the average bonus amount paid to all employees?"
   ]
  },
  {
   "cell_type": "code",
   "execution_count": 0,
   "metadata": {
    "application/vnd.databricks.v1+cell": {
     "cellMetadata": {
      "byteLimit": 2048000,
      "rowLimit": 10000
     },
     "inputWidgets": {},
     "nuid": "d697b9a0-d6e2-425b-a66b-7ee96e56f7f2",
     "showTitle": false,
     "title": ""
    }
   },
   "outputs": [
    {
     "output_type": "stream",
     "name": "stdout",
     "output_type": "stream",
     "text": [
      "+-----------------------+\n|avgBonuspaidtoEmployees|\n+-----------------------+\n|      50965.00275779381|\n+-----------------------+\n\n"
     ]
    }
   ],
   "source": [
    "# Write your code using the Spark Function\n",
    "avg_bonus = df.agg(avg('bonus').alias('avgBonuspaidtoEmployees'))\n",
    "avg_bonus.show()"
   ]
  },
  {
   "cell_type": "markdown",
   "metadata": {
    "application/vnd.databricks.v1+cell": {
     "cellMetadata": {
      "byteLimit": 2048000,
      "rowLimit": 10000
     },
     "inputWidgets": {},
     "nuid": "ec198c70-feec-41b0-8c9d-510bf76d87ef",
     "showTitle": false,
     "title": ""
    }
   },
   "source": [
    "d\n",
    "<b> How many employees have a bonus greater than their salary?"
   ]
  },
  {
   "cell_type": "code",
   "execution_count": 0,
   "metadata": {
    "application/vnd.databricks.v1+cell": {
     "cellMetadata": {
      "byteLimit": 2048000,
      "rowLimit": 10000
     },
     "inputWidgets": {},
     "nuid": "b484f9ac-b724-4f7a-975f-cebe0fd73201",
     "showTitle": false,
     "title": ""
    }
   },
   "outputs": [
    {
     "output_type": "stream",
     "name": "stdout",
     "output_type": "stream",
     "text": [
      "+------------------------------------+\n|EmplyeeshavingbonusgreaterthanSalary|\n+------------------------------------+\n|                                 187|\n+------------------------------------+\n\n"
     ]
    }
   ],
   "source": [
    "# Write your code using the Spark Function\n",
    "bonus_gr_sal = df.filter(df.bonus > df.salary).select(countDistinct('id').alias('EmplyeeshavingbonusgreaterthanSalary'))\n",
    "bonus_gr_sal.show()"
   ]
  }
 ],
 "metadata": {
  "application/vnd.databricks.v1+notebook": {
   "dashboards": [],
   "language": "python",
   "notebookMetadata": {
    "pythonIndentUnit": 2
   },
   "notebookName": "Databircks-Basic Common Transformation",
   "widgets": {}
  }
 },
 "nbformat": 4,
 "nbformat_minor": 0
}
