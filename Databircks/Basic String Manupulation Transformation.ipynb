{
 "cells": [
  {
   "cell_type": "markdown",
   "metadata": {
    "application/vnd.databricks.v1+cell": {
     "cellMetadata": {},
     "inputWidgets": {},
     "nuid": "db75cd47-6817-4c6d-9dd4-ebd8f0ef5557",
     "showTitle": false,
     "title": ""
    }
   },
   "source": [
    "<span style=\"color:orange\">\n",
    " <h2> Databircks-Assignemnt 3 (Basic String Manupulation Transformation)\n",
    "</span>\n",
    "  <h5>\n",
    "    <span style=\"color:red\">\n",
    "<b>Author: Deepak Goyal <br>\n",
    "   <a> adeus.azurelib.com </a><br>\n",
    "   Email at: admin@azurelib.com\n",
    "</span>"
   ]
  },
  {
   "cell_type": "code",
   "execution_count": 0,
   "metadata": {
    "application/vnd.databricks.v1+cell": {
     "cellMetadata": {
      "byteLimit": 2048000,
      "rowLimit": 10000
     },
     "inputWidgets": {},
     "nuid": "df21090b-bd1f-4d7c-a97a-9923c81c85b0",
     "showTitle": false,
     "title": ""
    }
   },
   "outputs": [],
   "source": [
    "from pyspark.sql.functions import *"
   ]
  },
  {
   "cell_type": "code",
   "execution_count": 0,
   "metadata": {
    "application/vnd.databricks.v1+cell": {
     "cellMetadata": {
      "byteLimit": 2048000,
      "rowLimit": 10000
     },
     "inputWidgets": {},
     "nuid": "4b09e727-942e-4ef6-97d4-58ab440c0bc1",
     "showTitle": false,
     "title": ""
    }
   },
   "outputs": [
    {
     "output_type": "stream",
     "name": "stdout",
     "output_type": "stream",
     "text": [
      "root\n |-- id: integer (nullable = true)\n |-- first_name: string (nullable = true)\n |-- last_name: string (nullable = true)\n |-- email: string (nullable = true)\n |-- gender: string (nullable = true)\n |-- salary: integer (nullable = true)\n |-- creationDate: timestamp (nullable = true)\n |-- bonus: double (nullable = true)\n\n+---+----------+---------+--------------------+------+------+-------------------+--------+\n| id|first_name|last_name|               email|gender|salary|       creationDate|   bonus|\n+---+----------+---------+--------------------+------+------+-------------------+--------+\n|  1|    Valene|   Ingley|vingley0@livejour...|Female| 44104|1957-09-09 16:44:40|    null|\n|  2|  Lynnelle|    Hurll| lhurll1@answers.com|Female|112411|1907-05-10 17:38:56|    null|\n|  3|   Miranda|    Train|   mtrain2@imgur.com|Female| 91073|1941-01-24 16:05:23|12875.54|\n|  4|    Dulsea|     Foss|dfoss3@dagondesig...|Female|193291|1942-05-09 20:59:39|    null|\n|  5|    Anatol|  Dunklee| adunklee4@google.de|  Male| 22175|1950-07-26 16:28:00| 1432.12|\n|  6|     Baily|   Antony| bantony5@sfgate.com|  Male|127337|1913-10-14 11:25:33|    null|\n|  7|    Eunice|   Cardus|ecardus6@scientif...|Female|136574|1901-11-02 15:09:47|38676.94|\n|  8|  Aubrette|  Lippett| alippett7@nifty.com|Female|165713|1919-12-16 08:20:42|60150.66|\n|  9|   Sibylla|Sickamore|ssickamore8@faceb...|Female|107243|2020-03-15 15:00:30|    null|\n| 10|      null|   Altree|paltree9@dropbox.com|Female|197594|1975-06-21 23:27:12|72533.37|\n| 11|      Coop|    Richt|   crichta@sogou.com|  Male| 19964|1939-02-13 16:18:24|56973.41|\n| 12|  Giuseppe|  Scimoni|gscimonib@craigsl...|  Male|176531|1967-04-06 07:23:03|    null|\n| 13|    Lovell|  Iorizzo|liorizzoc@cpanel.net|  Male|189150|1949-06-06 16:25:20| 41474.8|\n| 14|       Deb|    Mogra|   dmograd@bbc.co.uk|Female|197829|1997-07-27 14:55:52|46528.57|\n| 15|  Hastings| Jelliman|hjellimane@histat...|  Male|179296|1915-07-05 07:02:06|80194.64|\n| 16|     Josee|   Burnep|    jburnepf@php.net|  null| 78569|1923-11-08 20:59:14|88925.13|\n| 17|     Gilly|   Fownes|gfownesg@redcross...|Female|  2527|1946-07-30 21:10:57|    null|\n| 18|      null|Schruyers|lschruyersh@desde...|  Male|109936|1979-06-16 01:12:48|37243.09|\n| 19|     Maris|Chatelain| mchatelaini@unc.edu|Female|190047|2008-01-11 17:16:21|76469.65|\n| 20|    Casper|  Aughtie|    caughtiej@vk.com|  Male| 38689|1982-04-06 05:13:49| 80404.8|\n+---+----------+---------+--------------------+------+------+-------------------+--------+\nonly showing top 20 rows\n\n"
     ]
    }
   ],
   "source": [
    "df = spark.read.csv(\"dbfs:/FileStore/shared_uploads/aakashpavale8877@gmail.com/EmployeeData_HhTLiz9LdC_2JpHdxGvrY-1.csv\",header=True, inferSchema=True, sep =',')\n",
    "df.printSchema()\n",
    "df.show()"
   ]
  },
  {
   "cell_type": "markdown",
   "metadata": {
    "application/vnd.databricks.v1+cell": {
     "cellMetadata": {},
     "inputWidgets": {},
     "nuid": "25e9ad6b-bde3-4895-9c87-ac282e88a982",
     "showTitle": false,
     "title": ""
    }
   },
   "source": [
    "<b> How many employees have a first name that starts with the letter 'J'?"
   ]
  },
  {
   "cell_type": "code",
   "execution_count": 0,
   "metadata": {
    "application/vnd.databricks.v1+cell": {
     "cellMetadata": {
      "byteLimit": 2048000,
      "rowLimit": 10000
     },
     "inputWidgets": {},
     "nuid": "56f1ba90-25b6-4792-8a37-6fcc36ef1d81",
     "showTitle": false,
     "title": ""
    }
   },
   "outputs": [
    {
     "output_type": "stream",
     "name": "stdout",
     "output_type": "stream",
     "text": [
      "+-----------------+\n|count(first_name)|\n+-----------------+\n|               43|\n+-----------------+\n\n"
     ]
    }
   ],
   "source": [
    "# Write your code using the Spark Function\n",
    "first_name_J = df.filter(col('first_name').startswith('J')).select(count('first_name'))\n",
    "first_name_J.show()"
   ]
  },
  {
   "cell_type": "markdown",
   "metadata": {
    "application/vnd.databricks.v1+cell": {
     "cellMetadata": {},
     "inputWidgets": {},
     "nuid": "c416d4b2-c6e9-4807-b508-0329e5a694f6",
     "showTitle": false,
     "title": ""
    }
   },
   "source": [
    "d\n",
    "<b> How many employees have a last name that ends with the letter 's'?"
   ]
  },
  {
   "cell_type": "code",
   "execution_count": 0,
   "metadata": {
    "application/vnd.databricks.v1+cell": {
     "cellMetadata": {
      "byteLimit": 2048000,
      "rowLimit": 10000
     },
     "inputWidgets": {},
     "nuid": "bfae43d0-e5d3-4824-ba2e-9fd87aefe779",
     "showTitle": false,
     "title": ""
    }
   },
   "outputs": [
    {
     "output_type": "stream",
     "name": "stdout",
     "output_type": "stream",
     "text": [
      "+----------------+\n|count(last_name)|\n+----------------+\n|              81|\n+----------------+\n\n"
     ]
    }
   ],
   "source": [
    "# Write your code using the Spark Function\n",
    "last_name_s = df.filter(col('last_name').endswith('s')).select(count('last_name'))\n",
    "last_name_s.show()"
   ]
  },
  {
   "cell_type": "markdown",
   "metadata": {
    "application/vnd.databricks.v1+cell": {
     "cellMetadata": {},
     "inputWidgets": {},
     "nuid": "646c4286-10d1-44ea-9f41-1e37e2b60067",
     "showTitle": false,
     "title": ""
    }
   },
   "source": [
    "d\n",
    "<b> What is the length of the longest first name?"
   ]
  },
  {
   "cell_type": "code",
   "execution_count": 0,
   "metadata": {
    "application/vnd.databricks.v1+cell": {
     "cellMetadata": {
      "byteLimit": 2048000,
      "rowLimit": 10000
     },
     "inputWidgets": {},
     "nuid": "ce687833-45b5-4be9-b15c-1803cc80a433",
     "showTitle": false,
     "title": ""
    }
   },
   "outputs": [
    {
     "output_type": "stream",
     "name": "stdout",
     "output_type": "stream",
     "text": [
      "+---------------+-------------------------+\n|     first_name|length longest first name|\n+---------------+-------------------------+\n|Helen-elizabeth|                       15|\n+---------------+-------------------------+\n\n"
     ]
    }
   ],
   "source": [
    "# Write your code using the Spark Function\n",
    "longest_first_name = df.select('first_name',length('first_name').alias('length longest first name')).orderBy(desc('length longest first name')).limit(1)\n",
    "longest_first_name.show()"
   ]
  },
  {
   "cell_type": "markdown",
   "metadata": {
    "application/vnd.databricks.v1+cell": {
     "cellMetadata": {},
     "inputWidgets": {},
     "nuid": "0b163ff1-2e94-4df4-a16b-35e2df20206a",
     "showTitle": false,
     "title": ""
    }
   },
   "source": [
    "d\n",
    "<b> What is the length of the shortest last name?"
   ]
  },
  {
   "cell_type": "code",
   "execution_count": 0,
   "metadata": {
    "application/vnd.databricks.v1+cell": {
     "cellMetadata": {
      "byteLimit": 2048000,
      "rowLimit": 10000
     },
     "inputWidgets": {},
     "nuid": "9146750b-cabd-436f-ba86-9aa5b252a40e",
     "showTitle": false,
     "title": ""
    }
   },
   "outputs": [
    {
     "output_type": "stream",
     "name": "stdout",
     "output_type": "stream",
     "text": [
      "+---------+-------------------------+\n|last_name|length shortest last name|\n+---------+-------------------------+\n|      Sly|                        3|\n+---------+-------------------------+\n\n"
     ]
    }
   ],
   "source": [
    "# Write your code using the Spark Function\n",
    "short_last_name = df.select('last_name',length('last_name').alias('length shortest last name')).orderBy(asc_nulls_last('length shortest last name')).limit(1)\n",
    "short_last_name.show()"
   ]
  },
  {
   "cell_type": "markdown",
   "metadata": {
    "application/vnd.databricks.v1+cell": {
     "cellMetadata": {},
     "inputWidgets": {},
     "nuid": "c2561678-6fb8-4fde-bcfc-b1bc80056067",
     "showTitle": false,
     "title": ""
    }
   },
   "source": [
    "d\n",
    "<b> What is the email domain of the employee with the highest salary?"
   ]
  },
  {
   "cell_type": "code",
   "execution_count": 0,
   "metadata": {
    "application/vnd.databricks.v1+cell": {
     "cellMetadata": {
      "byteLimit": 2048000,
      "rowLimit": 10000
     },
     "inputWidgets": {},
     "nuid": "abb5d5cd-f2ea-492d-a4e9-0e084a10f28d",
     "showTitle": false,
     "title": ""
    }
   },
   "outputs": [
    {
     "output_type": "stream",
     "name": "stdout",
     "output_type": "stream",
     "text": [
      "Email domain of the employee with the highest salary: webs.com\n+------+\n|domain|\n+------+\n|  webs|\n+------+\n\n"
     ]
    }
   ],
   "source": [
    "# Write your code using the Spark Function\n",
    "max_salary = df.agg(max(col(\"salary\")).alias(\"max_salary\")).collect()[0][\"max_salary\"]\n",
    "highest_salary_employees = df.filter(col(\"salary\") == max_salary)\n",
    "email_domain = highest_salary_employees.select(substring_index(col(\"email\"), \"@\", -1).alias(\"email_domain\")).first()[\"email_domain\"]\n",
    "print(\"Email domain of the employee with the highest salary:\", email_domain)\n",
    "# email_domain.show()\n",
    "emp_domain = df.select(split((split(\"email\", \"@\")[1]),\".com\")[0].alias('domain')).orderBy(desc('salary')).limit(1)\n",
    "emp_domain.show()"
   ]
  },
  {
   "cell_type": "markdown",
   "metadata": {
    "application/vnd.databricks.v1+cell": {
     "cellMetadata": {},
     "inputWidgets": {},
     "nuid": "0e683047-d545-4618-a65c-a5b2ec2de6bb",
     "showTitle": false,
     "title": ""
    }
   },
   "source": [
    "d\n",
    "<b> What is the first name of the employee with the email address that contains the substring 'hr'?"
   ]
  },
  {
   "cell_type": "code",
   "execution_count": 0,
   "metadata": {
    "application/vnd.databricks.v1+cell": {
     "cellMetadata": {
      "byteLimit": 2048000,
      "rowLimit": 10000
     },
     "inputWidgets": {},
     "nuid": "766eb7bc-197b-4cf8-bd0e-fe92ec8cc18f",
     "showTitle": false,
     "title": ""
    }
   },
   "outputs": [
    {
     "output_type": "stream",
     "name": "stdout",
     "output_type": "stream",
     "text": [
      "+----------+--------------------+\n|first_name|               email|\n+----------+--------------------+\n|      null|lschruyersh@desde...|\n|    Averil|arobottham1e@chro...|\n|     Jocko|jboyington54@chro...|\n|      null|sachrameev5w@chro...|\n|   Hermina|hruddick72@flickr...|\n|      Anet|achristoffe7t@big...|\n|     Licha|lwelland9r@chron.com|\n|      Hewe|  hrovedj@flavors.me|\n|    Samson|shrinchenkoez@how...|\n|   Teodora|tstennardg8@chron...|\n|     Josey|   jmedlerhr@hud.gov|\n|       Gun|gbickstethr7@admi...|\n+----------+--------------------+\n\n"
     ]
    }
   ],
   "source": [
    "# Write your code using the Spark Function\n",
    "first_name = df.filter(col(\"email\").contains(\"hr\")).select(\"first_name\",'email')\n",
    "first_name.show()"
   ]
  },
  {
   "cell_type": "markdown",
   "metadata": {
    "application/vnd.databricks.v1+cell": {
     "cellMetadata": {},
     "inputWidgets": {},
     "nuid": "6d421b46-cb8c-42a7-b985-c27799c002c9",
     "showTitle": false,
     "title": ""
    }
   },
   "source": [
    "d\n",
    "<b> What is the last name of the employee with the email address that ends with the domain '.com'?"
   ]
  },
  {
   "cell_type": "code",
   "execution_count": 0,
   "metadata": {
    "application/vnd.databricks.v1+cell": {
     "cellMetadata": {
      "byteLimit": 2048000,
      "rowLimit": 10000
     },
     "inputWidgets": {},
     "nuid": "69c41384-df21-4b17-9f39-f2706192b8af",
     "showTitle": false,
     "title": ""
    }
   },
   "outputs": [
    {
     "output_type": "stream",
     "name": "stdout",
     "output_type": "stream",
     "text": [
      "+-----------+--------------------+\n|  last_name|               email|\n+-----------+--------------------+\n|     Ingley|vingley0@livejour...|\n|      Hurll| lhurll1@answers.com|\n|      Train|   mtrain2@imgur.com|\n|       Foss|dfoss3@dagondesig...|\n|     Antony| bantony5@sfgate.com|\n|     Cardus|ecardus6@scientif...|\n|    Lippett| alippett7@nifty.com|\n|  Sickamore|ssickamore8@faceb...|\n|     Altree|paltree9@dropbox.com|\n|      Richt|   crichta@sogou.com|\n|   Jelliman|hjellimane@histat...|\n|    Aughtie|    caughtiej@vk.com|\n|      Conry|bconryl@examiner.com|\n|      Orniz|eornizm@moonfruit...|\n|     Fronks|sfronksn@economis...|\n|Maffioletti|emaffiolettip@pos...|\n|  Jodlowski|ljodlowskiq@addto...|\n|  Yuranovev|byuranovevu@blogt...|\n|     Formby|mformbyv@macromed...|\n| Brauninger|pbrauningerw@wire...|\n+-----------+--------------------+\nonly showing top 20 rows\n\n"
     ]
    },
    {
     "output_type": "display_data",
     "data": {
      "text/html": [
       "<style scoped>\n",
       "  .table-result-container {\n",
       "    max-height: 300px;\n",
       "    overflow: auto;\n",
       "  }\n",
       "  table, th, td {\n",
       "    border: 1px solid black;\n",
       "    border-collapse: collapse;\n",
       "  }\n",
       "  th, td {\n",
       "    padding: 5px;\n",
       "  }\n",
       "  th {\n",
       "    text-align: left;\n",
       "  }\n",
       "</style><div class='table-result-container'><table class='table-result'><thead style='background-color: white'><tr><th>last_name</th><th>email</th></tr></thead><tbody><tr><td>Ingley</td><td>vingley0@livejournal.com</td></tr><tr><td>Hurll</td><td>lhurll1@answers.com</td></tr><tr><td>Train</td><td>mtrain2@imgur.com</td></tr><tr><td>Foss</td><td>dfoss3@dagondesign.com</td></tr><tr><td>Antony</td><td>bantony5@sfgate.com</td></tr><tr><td>Cardus</td><td>ecardus6@scientificamerican.com</td></tr><tr><td>Lippett</td><td>alippett7@nifty.com</td></tr><tr><td>Sickamore</td><td>ssickamore8@facebook.com</td></tr><tr><td>Altree</td><td>paltree9@dropbox.com</td></tr><tr><td>Richt</td><td>crichta@sogou.com</td></tr><tr><td>Jelliman</td><td>hjellimane@histats.com</td></tr><tr><td>Aughtie</td><td>caughtiej@vk.com</td></tr><tr><td>Conry</td><td>bconryl@examiner.com</td></tr><tr><td>Orniz</td><td>eornizm@moonfruit.com</td></tr><tr><td>Fronks</td><td>sfronksn@economist.com</td></tr><tr><td>Maffioletti</td><td>emaffiolettip@posterous.com</td></tr><tr><td>Jodlowski</td><td>ljodlowskiq@addtoany.com</td></tr><tr><td>Yuranovev</td><td>byuranovevu@blogtalkradio.com</td></tr><tr><td>Formby</td><td>mformbyv@macromedia.com</td></tr><tr><td>Brauninger</td><td>pbrauningerw@wired.com</td></tr><tr><td>Olland</td><td>aollandx@blogs.com</td></tr><tr><td>Guido</td><td>bguidoy@tripadvisor.com</td></tr><tr><td>Rablin</td><td>mrablin10@mashable.com</td></tr><tr><td>Woolner</td><td>nwoolner11@linkedin.com</td></tr><tr><td>Eixenberger</td><td>eeixenberger15@squarespace.com</td></tr><tr><td>null</td><td>acrossley16@hc360.com</td></tr><tr><td>Lockney</td><td>glockney17@ibm.com</td></tr><tr><td>Melladew</td><td>smelladew18@aol.com</td></tr><tr><td>Pancoust</td><td>mpancoust1d@parallels.com</td></tr><tr><td>Robottham</td><td>arobottham1e@chron.com</td></tr><tr><td>Clayborn</td><td>jclayborn1g@oakley.com</td></tr><tr><td>Withur</td><td>kwithur1i@elpais.com</td></tr><tr><td>Sell</td><td>asell1j@barnesandnoble.com</td></tr><tr><td>null</td><td>lminichillo1l@twitpic.com</td></tr><tr><td>Glascott</td><td>aglascott1n@xrea.com</td></tr><tr><td>null</td><td>bbrimilcombe1o@nba.com</td></tr><tr><td>null</td><td>lcotsford1p@ning.com</td></tr><tr><td>Tolliday</td><td>dtolliday1q@time.com</td></tr><tr><td>Digance</td><td>adigance1s@nydailynews.com</td></tr><tr><td>Deaton</td><td>sdeaton1v@zimbio.com</td></tr><tr><td>Kilbee</td><td>jkilbee1w@dedecms.com</td></tr><tr><td>Demaid</td><td>edemaid20@blog.com</td></tr><tr><td>Cavy</td><td>rcavy24@cbsnews.com</td></tr><tr><td>Adney</td><td>cadney27@sfgate.com</td></tr><tr><td>Shopcott</td><td>bshopcott29@hexun.com</td></tr><tr><td>Maylor</td><td>tmaylor2a@feedburner.com</td></tr><tr><td>Learmouth</td><td>slearmouth2c@ebay.com</td></tr><tr><td>MacEnelly</td><td>pmacenelly2f@dell.com</td></tr><tr><td>Keattch</td><td>gkeattch2g@addthis.com</td></tr><tr><td>Rosenfelder</td><td>nrosenfelder2i@pcworld.com</td></tr><tr><td>Helix</td><td>yhelix2l@alexa.com</td></tr><tr><td>Snoxall</td><td>ksnoxall2n@buzzfeed.com</td></tr><tr><td>Edmunds</td><td>jedmunds2p@dropbox.com</td></tr><tr><td>Ealam</td><td>sealam2r@merriam-webster.com</td></tr><tr><td>Castelijn</td><td>hcastelijn2s@patch.com</td></tr><tr><td>Bowstead</td><td>rbowstead2t@booking.com</td></tr><tr><td>Veeler</td><td>rveeler2u@seattletimes.com</td></tr><tr><td>Southby</td><td>asouthby2w@studiopress.com</td></tr><tr><td>Tipens</td><td>wtipens2x@studiopress.com</td></tr><tr><td>Gislebert</td><td>igislebert2y@forbes.com</td></tr><tr><td>Armand</td><td>harmand2z@discovery.com</td></tr><tr><td>null</td><td>llarrat30@prnewswire.com</td></tr><tr><td>Shingler</td><td>tshingler31@cnn.com</td></tr><tr><td>Thacke</td><td>athacke32@vinaora.com</td></tr><tr><td>Surridge</td><td>hsurridge33@nature.com</td></tr><tr><td>Kleyn</td><td>mkleyn34@pinterest.com</td></tr><tr><td>Emma</td><td>hemma35@booking.com</td></tr><tr><td>Jacks</td><td>cjacks38@sbwire.com</td></tr><tr><td>Scones</td><td>kscones39@weibo.com</td></tr><tr><td>Boam</td><td>aboam3a@ask.com</td></tr><tr><td>Sandhill</td><td>tsandhill3c@squidoo.com</td></tr><tr><td>Delbergue</td><td>adelbergue3f@feedburner.com</td></tr><tr><td>Vokins</td><td>tvokins3h@eepurl.com</td></tr><tr><td>Erickson</td><td>berickson3i@csmonitor.com</td></tr><tr><td>Skentelbury</td><td>dskentelbury3j@wikia.com</td></tr><tr><td>Triswell</td><td>ltriswell3m@vk.com</td></tr><tr><td>Aleixo</td><td>raleixo3n@ihg.com</td></tr><tr><td>Gillson</td><td>lgillson3p@webnode.com</td></tr><tr><td>Ferrieroi</td><td>sferrieroi3q@deviantart.com</td></tr><tr><td>Streatfeild</td><td>fstreatfeild3r@topsy.com</td></tr><tr><td>Gemmill</td><td>cgemmill3t@cnet.com</td></tr><tr><td>Morphey</td><td>smorphey3u@bloglovin.com</td></tr><tr><td>Trail</td><td>gtrail3v@163.com</td></tr><tr><td>Seamen</td><td>bseamen3y@jigsy.com</td></tr><tr><td>Dolder</td><td>gdolder42@amazon.com</td></tr><tr><td>Pashbee</td><td>upashbee43@engadget.com</td></tr><tr><td>Minget</td><td>bminget44@jiathis.com</td></tr><tr><td>Daverin</td><td>bdaverin46@imdb.com</td></tr><tr><td>Drewes</td><td>jdrewes48@wikispaces.com</td></tr><tr><td>Bernade</td><td>ebernade49@mapquest.com</td></tr><tr><td>Fullom</td><td>rfullom4a@networksolutions.com</td></tr><tr><td>Tomblin</td><td>atomblin4e@eepurl.com</td></tr><tr><td>Hinrichsen</td><td>shinrichsen4f@blinklist.com</td></tr><tr><td>Minster</td><td>sminster4h@weather.com</td></tr><tr><td>De La Cote</td><td>idelacote4j@woothemes.com</td></tr><tr><td>Brackstone</td><td>cbrackstone4l@java.com</td></tr><tr><td>null</td><td>lcolling4n@devhub.com</td></tr><tr><td>Langelaan</td><td>mlangelaan4q@bigcartel.com</td></tr><tr><td>Cawker</td><td>mcawker4v@omniture.com</td></tr><tr><td>Castlake</td><td>tcastlake4x@flickr.com</td></tr><tr><td>Craythorne</td><td>scraythorne4y@bravesites.com</td></tr><tr><td>Beers</td><td>tbeers51@imgur.com</td></tr><tr><td>Marrington</td><td>omarrington52@fastcompany.com</td></tr><tr><td>Witnall</td><td>lwitnall53@webnode.com</td></tr><tr><td>Boyington</td><td>jboyington54@chron.com</td></tr><tr><td>Gouldstone</td><td>ngouldstone56@taobao.com</td></tr><tr><td>Rignall</td><td>lrignall57@printfriendly.com</td></tr><tr><td>Fielden</td><td>dfielden59@newyorker.com</td></tr><tr><td>null</td><td>imaffy5a@ted.com</td></tr><tr><td>Haston</td><td>ehaston5e@seattletimes.com</td></tr><tr><td>Rearie</td><td>jrearie5f@marriott.com</td></tr><tr><td>Caulier</td><td>ccaulier5h@booking.com</td></tr><tr><td>Gammill</td><td>kgammill5k@mayoclinic.com</td></tr><tr><td>Huggens</td><td>ghuggens5m@topsy.com</td></tr><tr><td>Sarll</td><td>asarll5n@oracle.com</td></tr><tr><td>Gravenor</td><td>vgravenor5o@reference.com</td></tr><tr><td>Shirt</td><td>ashirt5p@weebly.com</td></tr><tr><td>Cockshott</td><td>acockshott5q@blogger.com</td></tr><tr><td>Walbrook</td><td>lwalbrook5s@eepurl.com</td></tr><tr><td>Richardt</td><td>grichardt5t@mayoclinic.com</td></tr><tr><td>Achrameev</td><td>sachrameev5w@chron.com</td></tr><tr><td>Flear</td><td>kflear5y@imdb.com</td></tr><tr><td>Hurry</td><td>thurry60@foxnews.com</td></tr><tr><td>Karmel</td><td>hkarmel61@foxnews.com</td></tr><tr><td>Fookes</td><td>wfookes62@networksolutions.com</td></tr><tr><td>Salmoni</td><td>ysalmoni64@usatoday.com</td></tr><tr><td>Matteini</td><td>kmatteini65@xinhuanet.com</td></tr><tr><td>Gladstone</td><td>cgladstone66@digg.com</td></tr><tr><td>Robertelli</td><td>srobertelli67@bizjournals.com</td></tr><tr><td>Andreini</td><td>dandreini6c@netscape.com</td></tr><tr><td>Chaddock</td><td>hchaddock6d@netlog.com</td></tr><tr><td>Rihosek</td><td>rrihosek6e@forbes.com</td></tr><tr><td>Garretts</td><td>egarretts6g@livejournal.com</td></tr><tr><td>null</td><td>kcourson6h@ebay.com</td></tr><tr><td>Lacer</td><td>mlacer6k@ebay.com</td></tr><tr><td>null</td><td>agiovannelli6l@wix.com</td></tr><tr><td>Reeman</td><td>vreeman6q@amazonaws.com</td></tr><tr><td>Ansteys</td><td>bansteys6s@arstechnica.com</td></tr><tr><td>Denyagin</td><td>adenyagin6t@mashable.com</td></tr><tr><td>Minet</td><td>lminet6x@reference.com</td></tr><tr><td>Egle of Germany</td><td>hegleofgermany70@studiopress.com</td></tr><tr><td>Dobbyn</td><td>mdobbyn71@lycos.com</td></tr><tr><td>Ruddick</td><td>hruddick72@flickr.com</td></tr><tr><td>Huddart</td><td>vhuddart74@nifty.com</td></tr><tr><td>Deyenhardt</td><td>sdeyenhardt75@canalblog.com</td></tr><tr><td>Westmarland</td><td>twestmarland76@opera.com</td></tr><tr><td>Sired</td><td>bsired77@go.com</td></tr><tr><td>Isaacs</td><td>misaacs78@cafepress.com</td></tr><tr><td>null</td><td>epaternoster79@1688.com</td></tr><tr><td>Laurisch</td><td>plaurisch7c@stumbleupon.com</td></tr><tr><td>Haffard</td><td>shaffard7d@skype.com</td></tr><tr><td>Ashbridge</td><td>cashbridge7e@list-manage.com</td></tr><tr><td>Castro</td><td>gcastro7f@meetup.com</td></tr><tr><td>Rawlins</td><td>crawlins7g@vinaora.com</td></tr><tr><td>Linscott</td><td>blinscott7i@jiathis.com</td></tr><tr><td>Beavon</td><td>cbeavon7j@twitpic.com</td></tr><tr><td>Bestar</td><td>bbestar7k@paypal.com</td></tr><tr><td>Sirette</td><td>asirette7l@goodreads.com</td></tr><tr><td>Rosson</td><td>brosson7o@myspace.com</td></tr><tr><td>Estcourt</td><td>westcourt7p@addtoany.com</td></tr><tr><td>Axten</td><td>oaxten7r@nbcnews.com</td></tr><tr><td>Kuhne</td><td>tkuhne7s@tmall.com</td></tr><tr><td>Tante</td><td>stante7v@artisteer.com</td></tr><tr><td>Craythorne</td><td>ccraythorne7x@skype.com</td></tr><tr><td>null</td><td>dlahive7y@globo.com</td></tr><tr><td>Leyman</td><td>rleyman80@eventbrite.com</td></tr><tr><td>Woofendell</td><td>cwoofendell81@ebay.com</td></tr><tr><td>Hayesman</td><td>hhayesman83@livejournal.com</td></tr><tr><td>O'Kerin</td><td>aokerin84@hao123.com</td></tr><tr><td>Volke</td><td>nvolke85@comsenz.com</td></tr><tr><td>Luis</td><td>cluis86@networksolutions.com</td></tr><tr><td>Cartmail</td><td>rcartmail87@cnbc.com</td></tr><tr><td>Renoden</td><td>mrenoden8b@time.com</td></tr><tr><td>null</td><td>sstarkings8c@diigo.com</td></tr><tr><td>Lugard</td><td>klugard8d@dell.com</td></tr><tr><td>Johnsee</td><td>mjohnsee8f@dedecms.com</td></tr><tr><td>Briffett</td><td>abriffett8k@wix.com</td></tr><tr><td>Janz</td><td>fjanz8l@nature.com</td></tr><tr><td>Tomkies</td><td>mtomkies8o@vimeo.com</td></tr><tr><td>null</td><td>acanacott8p@vk.com</td></tr><tr><td>Roggers</td><td>mroggers8t@woothemes.com</td></tr><tr><td>McGrayle</td><td>hmcgrayle8u@addthis.com</td></tr><tr><td>Sorel</td><td>asorel8v@reverbnation.com</td></tr><tr><td>Leap</td><td>xleap8w@disqus.com</td></tr><tr><td>Funnell</td><td>cfunnell8y@purevolume.com</td></tr><tr><td>Vasyaev</td><td>jvasyaev90@sogou.com</td></tr><tr><td>Cottu</td><td>lcottu92@reference.com</td></tr><tr><td>null</td><td>amackenzie93@homestead.com</td></tr><tr><td>Garrie</td><td>dgarrie94@facebook.com</td></tr><tr><td>Stennine</td><td>kstennine9d@economist.com</td></tr><tr><td>Fold</td><td>bfold9g@twitpic.com</td></tr><tr><td>Shoemark</td><td>cshoemark9h@yellowbook.com</td></tr><tr><td>Glisane</td><td>cglisane9j@reverbnation.com</td></tr><tr><td>Jacobson</td><td>pjacobson9l@yolasite.com</td></tr><tr><td>O'Fearguise</td><td>nofearguise9m@surveymonkey.com</td></tr><tr><td>Franzoli</td><td>kfranzoli9p@spotify.com</td></tr><tr><td>Welland</td><td>lwelland9r@chron.com</td></tr><tr><td>MacAlees</td><td>dmacalees9s@adobe.com</td></tr><tr><td>Spittles</td><td>rspittles9t@nymag.com</td></tr><tr><td>Grigolon</td><td>tgrigolon9u@skyrock.com</td></tr><tr><td>Birdsey</td><td>ebirdsey9v@tinypic.com</td></tr><tr><td>Arundale</td><td>marundale9w@multiply.com</td></tr><tr><td>Lewson</td><td>clewsona0@engadget.com</td></tr><tr><td>Shawe</td><td>ishawea1@histats.com</td></tr><tr><td>null</td><td>ecawtherya2@latimes.com</td></tr><tr><td>Leak</td><td>wleaka4@imdb.com</td></tr><tr><td>Newlin</td><td>cnewlina7@disqus.com</td></tr><tr><td>Purchon</td><td>hpurchona9@phpbb.com</td></tr><tr><td>Lewsley</td><td>glewsleyac@hubpages.com</td></tr><tr><td>Vittori</td><td>jvittoriad@xing.com</td></tr><tr><td>Dreng</td><td>udrengae@sfgate.com</td></tr><tr><td>Vlasenko</td><td>avlasenkoag@skyrock.com</td></tr><tr><td>Grumble</td><td>mgrumbleai@booking.com</td></tr><tr><td>Morch</td><td>amorchal@reuters.com</td></tr><tr><td>null</td><td>afullbrookam@sciencedaily.com</td></tr><tr><td>Stiggles</td><td>bstigglesap@istockphoto.com</td></tr><tr><td>Galliver</td><td>mgalliverat@howstuffworks.com</td></tr><tr><td>Kleinplatz</td><td>akleinplatzau@omniture.com</td></tr><tr><td>Harburtson</td><td>lharburtsonaw@list-manage.com</td></tr><tr><td>Pelchat</td><td>spelchataz@cargocollective.com</td></tr><tr><td>Woollacott</td><td>ewoollacottb3@deliciousdays.com</td></tr><tr><td>Britch</td><td>wbritchb4@163.com</td></tr><tr><td>Molian</td><td>rmolianb5@sciencedirect.com</td></tr><tr><td>Cowcha</td><td>rcowchab6@tumblr.com</td></tr><tr><td>Cramer</td><td>ecramerb8@cdbaby.com</td></tr><tr><td>Rides</td><td>aridesbb@github.com</td></tr><tr><td>O'Kelly</td><td>aokellybd@slate.com</td></tr><tr><td>Radbourn</td><td>jradbournbg@dropbox.com</td></tr><tr><td>null</td><td>gbaumanbh@sun.com</td></tr><tr><td>Matushevitz</td><td>nmatushevitzbk@ehow.com</td></tr><tr><td>null</td><td>ihenkenbl@cbslocal.com</td></tr><tr><td>Barwise</td><td>dbarwisebo@blogtalkradio.com</td></tr><tr><td>Braidon</td><td>ebraidonbv@mac.com</td></tr><tr><td>Skene</td><td>bskenebw@nymag.com</td></tr><tr><td>Turn</td><td>mturnbx@deviantart.com</td></tr><tr><td>Poate</td><td>mpoatec1@businessinsider.com</td></tr><tr><td>null</td><td>ccicettic3@smugmug.com</td></tr><tr><td>Hazlegrove</td><td>hhazlegrovec4@bigcartel.com</td></tr><tr><td>Oldcroft</td><td>koldcroftc5@ehow.com</td></tr><tr><td>Gullivent</td><td>kgulliventc6@sohu.com</td></tr><tr><td>Snaddon</td><td>zsnaddonc7@youku.com</td></tr><tr><td>Lounds</td><td>jloundsc8@sbwire.com</td></tr><tr><td>Cheale</td><td>achealeca@multiply.com</td></tr><tr><td>Cusack</td><td>acusackcf@etsy.com</td></tr><tr><td>Cherrie</td><td>lcherrieci@istockphoto.com</td></tr><tr><td>Gouldsmith</td><td>cgouldsmithcj@elpais.com</td></tr><tr><td>null</td><td>vgorgerck@squidoo.com</td></tr><tr><td>Darnody</td><td>adarnodycr@ucoz.com</td></tr><tr><td>Fosse</td><td>tfossecs@shareasale.com</td></tr><tr><td>Livett</td><td>elivettcv@howstuffworks.com</td></tr><tr><td>Lound</td><td>eloundcw@hibu.com</td></tr><tr><td>Lakeman</td><td>glakemancx@google.com</td></tr><tr><td>Fromant</td><td>gfromantcy@wikispaces.com</td></tr><tr><td>Allderidge</td><td>kallderidged2@springer.com</td></tr><tr><td>Nursey</td><td>jnurseyd6@myspace.com</td></tr><tr><td>Scorey</td><td>bscoreyd9@boston.com</td></tr><tr><td>Huie</td><td>mhuieda@biblegateway.com</td></tr><tr><td>Burnand</td><td>dburnanddb@delicious.com</td></tr><tr><td>Ullett</td><td>iullettdc@example.com</td></tr><tr><td>Emanuel</td><td>gemanuelde@shareasale.com</td></tr><tr><td>Egentan</td><td>oegentandg@skype.com</td></tr><tr><td>Brownsworth</td><td>bbrownsworthdh@stumbleupon.com</td></tr><tr><td>Cansdall</td><td>ncansdalldl@wired.com</td></tr><tr><td>Kienzle</td><td>pkienzledm@parallels.com</td></tr><tr><td>Fudge</td><td>nfudgedq@wired.com</td></tr><tr><td>Van der Krui</td><td>dvanderkruidt@purevolume.com</td></tr><tr><td>Smooth</td><td>csmoothdv@weibo.com</td></tr><tr><td>Maryon</td><td>ymaryondw@live.com</td></tr><tr><td>Matas</td><td>omatasdz@hp.com</td></tr><tr><td>Emerton</td><td>kemertone3@dropbox.com</td></tr><tr><td>Fridd</td><td>gfridde4@samsung.com</td></tr><tr><td>Lassetter</td><td>qlassettere5@eventbrite.com</td></tr><tr><td>Bithany</td><td>lbithanye6@dagondesign.com</td></tr><tr><td>Johannesson</td><td>djohannessone8@foxnews.com</td></tr><tr><td>Casebourne</td><td>bcasebournee9@canalblog.com</td></tr><tr><td>Fitzhenry</td><td>jfitzhenryea@hugedomains.com</td></tr><tr><td>Lammenga</td><td>jlammengaec@scientificamerican.com</td></tr><tr><td>Demchen</td><td>bdemchened@examiner.com</td></tr><tr><td>Fulford</td><td>nfulfordee@walmart.com</td></tr><tr><td>Indgs</td><td>kindgsef@ycombinator.com</td></tr><tr><td>null</td><td>cparmeterei@netlog.com</td></tr><tr><td>Matysiak</td><td>cmatysiakej@nationalgeographic.com</td></tr><tr><td>Auten</td><td>cautenem@answers.com</td></tr><tr><td>null</td><td>rcheelen@washingtonpost.com</td></tr><tr><td>null</td><td>ghennigereq@posterous.com</td></tr><tr><td>Furlong</td><td>tfurlonger@sun.com</td></tr><tr><td>Pflieger</td><td>upfliegerey@msn.com</td></tr><tr><td>Hrinchenko</td><td>shrinchenkoez@howstuffworks.com</td></tr><tr><td>Houchin</td><td>bhouchinf0@dell.com</td></tr><tr><td>Forrest</td><td>aforrestf2@tinypic.com</td></tr><tr><td>Surcomb</td><td>gsurcombf4@cocolog-nifty.com</td></tr><tr><td>Peiser</td><td>epeiserf6@flickr.com</td></tr><tr><td>Coey</td><td>kcoeyf7@live.com</td></tr><tr><td>Eatherton</td><td>heathertonfa@blog.com</td></tr><tr><td>McPhail</td><td>mmcphailfb@elpais.com</td></tr><tr><td>Scroggs</td><td>nscroggsfc@jiathis.com</td></tr><tr><td>null</td><td>claugheranfe@google.com</td></tr><tr><td>Gyde</td><td>mgydefh@imgur.com</td></tr><tr><td>Burnsall</td><td>dburnsallfk@cloudflare.com</td></tr><tr><td>Bremond</td><td>abremondfl@reference.com</td></tr><tr><td>Cliburn</td><td>bcliburnfn@facebook.com</td></tr><tr><td>null</td><td>licomfp@marriott.com</td></tr><tr><td>Dawkins</td><td>bdawkinsfs@gizmodo.com</td></tr><tr><td>Signore</td><td>csignoreft@sciencedirect.com</td></tr><tr><td>Sly</td><td>gslyfu@blogger.com</td></tr><tr><td>Lesser</td><td>slesserfv@yellowbook.com</td></tr><tr><td>Flement</td><td>mflementfy@stumbleupon.com</td></tr><tr><td>Hazeman</td><td>dhazemanfz@samsung.com</td></tr><tr><td>Fisk</td><td>afiskg1@disqus.com</td></tr><tr><td>Pankhurst.</td><td>epankhurstg2@springer.com</td></tr><tr><td>Guilloneau</td><td>cguilloneaug3@cdbaby.com</td></tr><tr><td>MacDaid</td><td>wmacdaidg6@omniture.com</td></tr><tr><td>Ion</td><td>tiong7@discovery.com</td></tr><tr><td>null</td><td>tstennardg8@chronoengine.com</td></tr><tr><td>Conachy</td><td>rconachyga@acquirethisname.com</td></tr><tr><td>Shawyers</td><td>hshawyersge@zdnet.com</td></tr><tr><td>Schultes</td><td>gschultesgh@booking.com</td></tr><tr><td>Breckell</td><td>abreckellgl@tinypic.com</td></tr><tr><td>Espinosa</td><td>kespinosagm@cnbc.com</td></tr><tr><td>Gravenall</td><td>tgravenallgo@etsy.com</td></tr><tr><td>Fobidge</td><td>gfobidgegp@imgur.com</td></tr><tr><td>Borgne</td><td>rborgnegq@topsy.com</td></tr><tr><td>Cranny</td><td>lcrannygs@xing.com</td></tr><tr><td>null</td><td>jkeizmangu@fastcompany.com</td></tr><tr><td>Hustings</td><td>rhustingsgv@list-manage.com</td></tr><tr><td>Bauldry</td><td>abauldrygx@dagondesign.com</td></tr><tr><td>Janko</td><td>jjankogz@surveymonkey.com</td></tr><tr><td>Maldin</td><td>rmaldinh4@reddit.com</td></tr><tr><td>null</td><td>sfitchetth5@globo.com</td></tr><tr><td>Rugg</td><td>eruggh6@businesswire.com</td></tr><tr><td>Powelee</td><td>opoweleeh8@merriam-webster.com</td></tr><tr><td>Avramovitz</td><td>lavramovitzh9@geocities.com</td></tr><tr><td>Tiffin</td><td>ltiffinhb@netvibes.com</td></tr><tr><td>Di Lucia</td><td>vdiluciahc@samsung.com</td></tr><tr><td>Nelligan</td><td>dnelliganhf@wufoo.com</td></tr><tr><td>Ditchfield</td><td>editchfieldhh@webnode.com</td></tr><tr><td>McEntagart</td><td>hmcentagarthj@seattletimes.com</td></tr><tr><td>Bellee</td><td>ibelleehl@hostgator.com</td></tr><tr><td>Lennon</td><td>vlennonho@blogger.com</td></tr><tr><td>Huffey</td><td>mhuffeyhp@printfriendly.com</td></tr><tr><td>Elks</td><td>delkshq@blogspot.com</td></tr><tr><td>Padson</td><td>epadsonhs@xinhuanet.com</td></tr><tr><td>Southerns</td><td>bsouthernsht@netscape.com</td></tr><tr><td>Dorbin</td><td>hdorbinhu@bloomberg.com</td></tr><tr><td>Hame</td><td>phamehw@ning.com</td></tr><tr><td>Easum</td><td>deasumhz@diigo.com</td></tr><tr><td>Lauga</td><td>claugai0@tripod.com</td></tr><tr><td>null</td><td>mdacki1@mac.com</td></tr><tr><td>Ziebart</td><td>dziebarti5@devhub.com</td></tr><tr><td>Hance</td><td>ahancei7@sbwire.com</td></tr><tr><td>Sneezum</td><td>dsneezumi9@go.com</td></tr><tr><td>Rudwell</td><td>crudwellia@topsy.com</td></tr><tr><td>Hatter</td><td>uhatterib@msn.com</td></tr><tr><td>Goulder</td><td>sgoulderic@4shared.com</td></tr><tr><td>Gask</td><td>agaskid@tinyurl.com</td></tr><tr><td>Yoselevitch</td><td>byoselevitchie@sphinn.com</td></tr><tr><td>Orring</td><td>borringif@examiner.com</td></tr><tr><td>Beastall</td><td>ebeastallig@example.com</td></tr><tr><td>null</td><td>vcriagih@youku.com</td></tr><tr><td>null</td><td>schivrallij@vinaora.com</td></tr><tr><td>Beatey</td><td>abeateyim@wired.com</td></tr><tr><td>Fray</td><td>cfrayio@gizmodo.com</td></tr><tr><td>Moresby</td><td>mmoresbyip@freewebs.com</td></tr><tr><td>Noller</td><td>dnollerir@godaddy.com</td></tr><tr><td>Craighead</td><td>acraigheadit@storify.com</td></tr><tr><td>Neaverson</td><td>sneaversoniu@posterous.com</td></tr><tr><td>Allsebrook</td><td>callsebrookiv@ft.com</td></tr><tr><td>Finlry</td><td>mfinlryiy@addtoany.com</td></tr><tr><td>Shillaber</td><td>ushillaberj0@jiathis.com</td></tr><tr><td>Torra</td><td>rtorraj2@deliciousdays.com</td></tr><tr><td>Frid</td><td>bfridj4@kickstarter.com</td></tr><tr><td>Bluck</td><td>mbluckj5@indiegogo.com</td></tr><tr><td>Forre</td><td>rforrej7@newyorker.com</td></tr><tr><td>null</td><td>ggriffej8@surveymonkey.com</td></tr><tr><td>Keough</td><td>ckeoughja@pcworld.com</td></tr><tr><td>Escalante</td><td>bescalantejd@parallels.com</td></tr><tr><td>null</td><td>gmccormickje@ft.com</td></tr><tr><td>Boness</td><td>vbonessjg@bizjournals.com</td></tr><tr><td>Villalta</td><td>tvillaltajh@howstuffworks.com</td></tr><tr><td>null</td><td>dlarticeji@netscape.com</td></tr><tr><td>Iori</td><td>ciorijl@sitemeter.com</td></tr><tr><td>Stelljes</td><td>sstelljesjm@tripod.com</td></tr><tr><td>McFarlan</td><td>mmcfarlanjn@mtv.com</td></tr><tr><td>Clayworth</td><td>gclayworthjo@nationalgeographic.com</td></tr><tr><td>null</td><td>mkhoterjq@hibu.com</td></tr><tr><td>Grinstead</td><td>fgrinsteadjr@cbslocal.com</td></tr><tr><td>Birtwistle</td><td>sbirtwistlejs@blog.com</td></tr><tr><td>Luckham</td><td>cluckhamjt@vinaora.com</td></tr><tr><td>Whitham</td><td>bwhithamju@alexa.com</td></tr><tr><td>Letteresse</td><td>mletteressejx@netlog.com</td></tr><tr><td>Nyles</td><td>ynylesjy@usnews.com</td></tr><tr><td>Capstake</td><td>tcapstakek0@about.com</td></tr><tr><td>Dobson</td><td>tdobsonk1@shutterfly.com</td></tr><tr><td>Astley</td><td>rastleyk4@zdnet.com</td></tr><tr><td>Fidian</td><td>dfidiank5@chicagotribune.com</td></tr><tr><td>Bernardos</td><td>cbernardosk7@youtube.com</td></tr><tr><td>Tompsett</td><td>stompsettk9@photobucket.com</td></tr><tr><td>Dearell</td><td>bdearellkb@wunderground.com</td></tr><tr><td>Braban</td><td>rbrabankc@phpbb.com</td></tr><tr><td>Etherington</td><td>tetheringtonkf@fotki.com</td></tr><tr><td>McGillecole</td><td>cmcgillecoleki@mtv.com</td></tr><tr><td>Giffon</td><td>ggiffonkj@angelfire.com</td></tr><tr><td>null</td><td>awiltshawkk@mashable.com</td></tr><tr><td>Skatcher</td><td>pskatcherkl@discovery.com</td></tr><tr><td>null</td><td>lgallamorekm@blogs.com</td></tr><tr><td>Siburn</td><td>dsiburnkn@marriott.com</td></tr><tr><td>Discombe</td><td>kdiscombekp@myspace.com</td></tr><tr><td>null</td><td>avarneykq@scientificamerican.com</td></tr><tr><td>Adamovicz</td><td>aadamoviczks@mayoclinic.com</td></tr><tr><td>Denington</td><td>cdeningtonku@washingtonpost.com</td></tr><tr><td>Eager</td><td>aeagerkv@alexa.com</td></tr><tr><td>Brambley</td><td>vbrambleyky@ning.com</td></tr><tr><td>Franks</td><td>cfrankskz@angelfire.com</td></tr><tr><td>Detloff</td><td>sdetloffl1@hibu.com</td></tr><tr><td>O'Day</td><td>godayl2@mlb.com</td></tr><tr><td>Dryburgh</td><td>gdryburghl3@freewebs.com</td></tr><tr><td>Tole</td><td>ttolel5@sun.com</td></tr><tr><td>Grieves</td><td>egrievesl7@bigcartel.com</td></tr><tr><td>Sepey</td><td>dsepeyl9@tumblr.com</td></tr><tr><td>Woofinden</td><td>awoofindenla@sogou.com</td></tr><tr><td>Skottle</td><td>dskottleld@cisco.com</td></tr><tr><td>Wimpenny</td><td>hwimpennyle@mashable.com</td></tr><tr><td>Sommerly</td><td>ssommerlylh@aol.com</td></tr><tr><td>Comfort</td><td>bcomfortli@parallels.com</td></tr><tr><td>Cassedy</td><td>icassedylk@icq.com</td></tr><tr><td>Baress</td><td>nbaresslm@ycombinator.com</td></tr><tr><td>Seaborne</td><td>cseaborneln@forbes.com</td></tr><tr><td>Reinbeck</td><td>areinbecklo@hibu.com</td></tr><tr><td>Raincin</td><td>traincinlp@buzzfeed.com</td></tr><tr><td>Early</td><td>jearlylq@oracle.com</td></tr><tr><td>Coopland</td><td>bcooplandlt@reference.com</td></tr><tr><td>Hawson</td><td>ihawsonlu@barnesandnoble.com</td></tr><tr><td>Brenneke</td><td>mbrennekelw@disqus.com</td></tr><tr><td>Sailor</td><td>asailorm0@angelfire.com</td></tr><tr><td>Scamel</td><td>dscamelm3@hubpages.com</td></tr><tr><td>Glassopp</td><td>bglassoppm5@purevolume.com</td></tr><tr><td>Turford</td><td>eturfordm6@purevolume.com</td></tr><tr><td>Cansdell</td><td>fcansdellm8@godaddy.com</td></tr><tr><td>null</td><td>wflewittm9@typepad.com</td></tr><tr><td>Saltman</td><td>asaltmanmb@tinyurl.com</td></tr><tr><td>Tollady</td><td>ctolladymd@fotki.com</td></tr><tr><td>null</td><td>tgainme@cdbaby.com</td></tr><tr><td>Perrie</td><td>pperriemf@purevolume.com</td></tr><tr><td>Durran</td><td>mdurranmj@cbslocal.com</td></tr><tr><td>Ondrus</td><td>londrusmk@acquirethisname.com</td></tr><tr><td>Harris</td><td>charrisml@howstuffworks.com</td></tr><tr><td>Tynan</td><td>atynanmo@yellowbook.com</td></tr><tr><td>Caren</td><td>pcarenmp@wix.com</td></tr><tr><td>Tompkiss</td><td>ntompkissmq@vistaprint.com</td></tr><tr><td>Lowndsbrough</td><td>llowndsbroughmr@vimeo.com</td></tr><tr><td>Postill</td><td>bpostillmu@addtoany.com</td></tr><tr><td>null</td><td>hfarringtonmv@symantec.com</td></tr><tr><td>Van de Velde</td><td>lvandeveldemy@youku.com</td></tr><tr><td>Rosberg</td><td>arosbergmz@nature.com</td></tr><tr><td>Frise</td><td>afrisen0@surveymonkey.com</td></tr><tr><td>Dupoy</td><td>adupoyn1@kickstarter.com</td></tr><tr><td>Langcastle</td><td>clangcastlen3@ucoz.com</td></tr><tr><td>Jaffra</td><td>rjaffran4@nifty.com</td></tr><tr><td>Gailor</td><td>ngailorn5@ibm.com</td></tr><tr><td>Davidof</td><td>cdavidofn8@cnet.com</td></tr><tr><td>Filoniere</td><td>efilonieren9@nydailynews.com</td></tr><tr><td>Tyreman</td><td>ktyremannb@hc360.com</td></tr><tr><td>null</td><td>apenhaleuracknc@nbcnews.com</td></tr><tr><td>Jouen</td><td>rjouennd@technorati.com</td></tr><tr><td>Goulding</td><td>kgouldingne@trellian.com</td></tr><tr><td>Levington</td><td>blevingtonnh@webmd.com</td></tr><tr><td>Jaffa</td><td>ajaffani@mysql.com</td></tr><tr><td>Pea</td><td>tpeanl@moonfruit.com</td></tr><tr><td>Huerta</td><td>nhuertanm@shutterfly.com</td></tr><tr><td>Dawdry</td><td>edawdrynr@meetup.com</td></tr><tr><td>null</td><td>mmcguinessns@linkedin.com</td></tr><tr><td>Janosevic</td><td>ejanosevicnu@hao123.com</td></tr><tr><td>Benck</td><td>lbencknx@elpais.com</td></tr><tr><td>null</td><td>rdicteo0@qq.com</td></tr><tr><td>Stovell</td><td>hstovello3@xinhuanet.com</td></tr><tr><td>null</td><td>gwoodroffeo5@mozilla.com</td></tr><tr><td>Hawken</td><td>ehawkeno7@163.com</td></tr><tr><td>Murcott</td><td>cmurcotto8@cdbaby.com</td></tr><tr><td>Burnyate</td><td>eburnyateoa@ft.com</td></tr><tr><td>null</td><td>shucksteppoc@buzzfeed.com</td></tr><tr><td>Burnall</td><td>aburnallod@bluehost.com</td></tr><tr><td>O'Kane</td><td>sokaneoi@fc2.com</td></tr><tr><td>Fortune</td><td>tfortuneol@vimeo.com</td></tr><tr><td>Palatino</td><td>epalatinoom@accuweather.com</td></tr><tr><td>Grinyer</td><td>wgrinyeron@foxnews.com</td></tr><tr><td>Dunstone</td><td>tdunstoneop@photobucket.com</td></tr><tr><td>Bosquet</td><td>hbosquetoq@engadget.com</td></tr><tr><td>Bisatt</td><td>gbisattou@rediff.com</td></tr><tr><td>Bruton</td><td>nbrutonov@4shared.com</td></tr><tr><td>Ropp</td><td>eroppow@latimes.com</td></tr><tr><td>null</td><td>flyttonp2@tripod.com</td></tr><tr><td>Omond</td><td>aomondpa@seattletimes.com</td></tr><tr><td>McRoberts</td><td>amcrobertspc@qq.com</td></tr><tr><td>Chessell</td><td>fchessellpe@meetup.com</td></tr><tr><td>Carberry</td><td>hcarberryph@sohu.com</td></tr><tr><td>Francesc</td><td>efrancescpi@webmd.com</td></tr><tr><td>Beautyman</td><td>abeautymanpk@about.com</td></tr><tr><td>MacCombe</td><td>mmaccombepl@smugmug.com</td></tr><tr><td>Swinbourne</td><td>tswinbournepm@wikia.com</td></tr><tr><td>Hamilton</td><td>vhamiltonpo@gizmodo.com</td></tr><tr><td>Itzig</td><td>gitzigpq@mlb.com</td></tr><tr><td>Jehu</td><td>ojehupr@alexa.com</td></tr><tr><td>MacRorie</td><td>bmacroriept@1688.com</td></tr><tr><td>Chestle</td><td>vchestlepw@bizjournals.com</td></tr><tr><td>Fulop</td><td>bfuloppx@xrea.com</td></tr><tr><td>Gilfillan</td><td>bgilfillanpy@mapquest.com</td></tr><tr><td>Howlett</td><td>lhowlettq0@theguardian.com</td></tr><tr><td>null</td><td>ddielhennq3@sphinn.com</td></tr><tr><td>Tomkies</td><td>mtomkiesq5@instagram.com</td></tr><tr><td>Butland</td><td>sbutlandq7@shareasale.com</td></tr><tr><td>Devil</td><td>ddevilq9@indiatimes.com</td></tr><tr><td>Dikes</td><td>mdikesqa@mac.com</td></tr><tr><td>Blaylock</td><td>ablaylockqc@webmd.com</td></tr><tr><td>Milsap</td><td>imilsapqd@java.com</td></tr><tr><td>Clandillon</td><td>aclandillonqg@about.com</td></tr><tr><td>Ferrer</td><td>gferrerqi@about.com</td></tr><tr><td>Roscow</td><td>sroscowqk@xinhuanet.com</td></tr><tr><td>null</td><td>gbehnekeqm@amazon.com</td></tr><tr><td>Leal</td><td>alealqn@vistaprint.com</td></tr><tr><td>Keynes</td><td>skeynesqq@scribd.com</td></tr><tr><td>Jeannesson</td><td>ajeannessonqr@mysql.com</td></tr><tr><td>Kennler</td><td>skennlerqv@dell.com</td></tr><tr><td>Stoke</td><td>bstokeqw@dropbox.com</td></tr><tr><td>Whorton</td><td>lwhortonqx@skype.com</td></tr><tr><td>Nestor</td><td>cnestorqz@istockphoto.com</td></tr><tr><td>Gerardin</td><td>agerardinr1@bandcamp.com</td></tr><tr><td>Kirley</td><td>kkirleyr2@phpbb.com</td></tr><tr><td>Hanbridge</td><td>ahanbridger3@webs.com</td></tr><tr><td>Chilton</td><td>schiltonr9@devhub.com</td></tr><tr><td>Artist</td><td>martistra@networksolutions.com</td></tr><tr><td>null</td><td>rdavisrb@buzzfeed.com</td></tr><tr><td>Grugerr</td><td>pgrugerrrd@zimbio.com</td></tr><tr><td>Adamek</td><td>gadamekrg@skyrock.com</td></tr><tr><td>Janos</td><td>cjanosrm@mediafire.com</td></tr><tr><td>Stokey</td><td>cstokeyrn@jigsy.com</td></tr><tr><td>Kepp</td><td>dkepprq@icq.com</td></tr></tbody></table></div>"
      ]
     },
     "metadata": {
      "application/vnd.databricks.v1+output": {
       "addedWidgets": {},
       "aggData": [],
       "aggError": "",
       "aggOverflow": false,
       "aggSchema": [],
       "aggSeriesLimitReached": false,
       "aggType": "",
       "arguments": {},
       "columnCustomDisplayInfos": {},
       "data": [
        [
         "Ingley",
         "vingley0@livejournal.com"
        ],
        [
         "Hurll",
         "lhurll1@answers.com"
        ],
        [
         "Train",
         "mtrain2@imgur.com"
        ],
        [
         "Foss",
         "dfoss3@dagondesign.com"
        ],
        [
         "Antony",
         "bantony5@sfgate.com"
        ],
        [
         "Cardus",
         "ecardus6@scientificamerican.com"
        ],
        [
         "Lippett",
         "alippett7@nifty.com"
        ],
        [
         "Sickamore",
         "ssickamore8@facebook.com"
        ],
        [
         "Altree",
         "paltree9@dropbox.com"
        ],
        [
         "Richt",
         "crichta@sogou.com"
        ],
        [
         "Jelliman",
         "hjellimane@histats.com"
        ],
        [
         "Aughtie",
         "caughtiej@vk.com"
        ],
        [
         "Conry",
         "bconryl@examiner.com"
        ],
        [
         "Orniz",
         "eornizm@moonfruit.com"
        ],
        [
         "Fronks",
         "sfronksn@economist.com"
        ],
        [
         "Maffioletti",
         "emaffiolettip@posterous.com"
        ],
        [
         "Jodlowski",
         "ljodlowskiq@addtoany.com"
        ],
        [
         "Yuranovev",
         "byuranovevu@blogtalkradio.com"
        ],
        [
         "Formby",
         "mformbyv@macromedia.com"
        ],
        [
         "Brauninger",
         "pbrauningerw@wired.com"
        ],
        [
         "Olland",
         "aollandx@blogs.com"
        ],
        [
         "Guido",
         "bguidoy@tripadvisor.com"
        ],
        [
         "Rablin",
         "mrablin10@mashable.com"
        ],
        [
         "Woolner",
         "nwoolner11@linkedin.com"
        ],
        [
         "Eixenberger",
         "eeixenberger15@squarespace.com"
        ],
        [
         null,
         "acrossley16@hc360.com"
        ],
        [
         "Lockney",
         "glockney17@ibm.com"
        ],
        [
         "Melladew",
         "smelladew18@aol.com"
        ],
        [
         "Pancoust",
         "mpancoust1d@parallels.com"
        ],
        [
         "Robottham",
         "arobottham1e@chron.com"
        ],
        [
         "Clayborn",
         "jclayborn1g@oakley.com"
        ],
        [
         "Withur",
         "kwithur1i@elpais.com"
        ],
        [
         "Sell",
         "asell1j@barnesandnoble.com"
        ],
        [
         null,
         "lminichillo1l@twitpic.com"
        ],
        [
         "Glascott",
         "aglascott1n@xrea.com"
        ],
        [
         null,
         "bbrimilcombe1o@nba.com"
        ],
        [
         null,
         "lcotsford1p@ning.com"
        ],
        [
         "Tolliday",
         "dtolliday1q@time.com"
        ],
        [
         "Digance",
         "adigance1s@nydailynews.com"
        ],
        [
         "Deaton",
         "sdeaton1v@zimbio.com"
        ],
        [
         "Kilbee",
         "jkilbee1w@dedecms.com"
        ],
        [
         "Demaid",
         "edemaid20@blog.com"
        ],
        [
         "Cavy",
         "rcavy24@cbsnews.com"
        ],
        [
         "Adney",
         "cadney27@sfgate.com"
        ],
        [
         "Shopcott",
         "bshopcott29@hexun.com"
        ],
        [
         "Maylor",
         "tmaylor2a@feedburner.com"
        ],
        [
         "Learmouth",
         "slearmouth2c@ebay.com"
        ],
        [
         "MacEnelly",
         "pmacenelly2f@dell.com"
        ],
        [
         "Keattch",
         "gkeattch2g@addthis.com"
        ],
        [
         "Rosenfelder",
         "nrosenfelder2i@pcworld.com"
        ],
        [
         "Helix",
         "yhelix2l@alexa.com"
        ],
        [
         "Snoxall",
         "ksnoxall2n@buzzfeed.com"
        ],
        [
         "Edmunds",
         "jedmunds2p@dropbox.com"
        ],
        [
         "Ealam",
         "sealam2r@merriam-webster.com"
        ],
        [
         "Castelijn",
         "hcastelijn2s@patch.com"
        ],
        [
         "Bowstead",
         "rbowstead2t@booking.com"
        ],
        [
         "Veeler",
         "rveeler2u@seattletimes.com"
        ],
        [
         "Southby",
         "asouthby2w@studiopress.com"
        ],
        [
         "Tipens",
         "wtipens2x@studiopress.com"
        ],
        [
         "Gislebert",
         "igislebert2y@forbes.com"
        ],
        [
         "Armand",
         "harmand2z@discovery.com"
        ],
        [
         null,
         "llarrat30@prnewswire.com"
        ],
        [
         "Shingler",
         "tshingler31@cnn.com"
        ],
        [
         "Thacke",
         "athacke32@vinaora.com"
        ],
        [
         "Surridge",
         "hsurridge33@nature.com"
        ],
        [
         "Kleyn",
         "mkleyn34@pinterest.com"
        ],
        [
         "Emma",
         "hemma35@booking.com"
        ],
        [
         "Jacks",
         "cjacks38@sbwire.com"
        ],
        [
         "Scones",
         "kscones39@weibo.com"
        ],
        [
         "Boam",
         "aboam3a@ask.com"
        ],
        [
         "Sandhill",
         "tsandhill3c@squidoo.com"
        ],
        [
         "Delbergue",
         "adelbergue3f@feedburner.com"
        ],
        [
         "Vokins",
         "tvokins3h@eepurl.com"
        ],
        [
         "Erickson",
         "berickson3i@csmonitor.com"
        ],
        [
         "Skentelbury",
         "dskentelbury3j@wikia.com"
        ],
        [
         "Triswell",
         "ltriswell3m@vk.com"
        ],
        [
         "Aleixo",
         "raleixo3n@ihg.com"
        ],
        [
         "Gillson",
         "lgillson3p@webnode.com"
        ],
        [
         "Ferrieroi",
         "sferrieroi3q@deviantart.com"
        ],
        [
         "Streatfeild",
         "fstreatfeild3r@topsy.com"
        ],
        [
         "Gemmill",
         "cgemmill3t@cnet.com"
        ],
        [
         "Morphey",
         "smorphey3u@bloglovin.com"
        ],
        [
         "Trail",
         "gtrail3v@163.com"
        ],
        [
         "Seamen",
         "bseamen3y@jigsy.com"
        ],
        [
         "Dolder",
         "gdolder42@amazon.com"
        ],
        [
         "Pashbee",
         "upashbee43@engadget.com"
        ],
        [
         "Minget",
         "bminget44@jiathis.com"
        ],
        [
         "Daverin",
         "bdaverin46@imdb.com"
        ],
        [
         "Drewes",
         "jdrewes48@wikispaces.com"
        ],
        [
         "Bernade",
         "ebernade49@mapquest.com"
        ],
        [
         "Fullom",
         "rfullom4a@networksolutions.com"
        ],
        [
         "Tomblin",
         "atomblin4e@eepurl.com"
        ],
        [
         "Hinrichsen",
         "shinrichsen4f@blinklist.com"
        ],
        [
         "Minster",
         "sminster4h@weather.com"
        ],
        [
         "De La Cote",
         "idelacote4j@woothemes.com"
        ],
        [
         "Brackstone",
         "cbrackstone4l@java.com"
        ],
        [
         null,
         "lcolling4n@devhub.com"
        ],
        [
         "Langelaan",
         "mlangelaan4q@bigcartel.com"
        ],
        [
         "Cawker",
         "mcawker4v@omniture.com"
        ],
        [
         "Castlake",
         "tcastlake4x@flickr.com"
        ],
        [
         "Craythorne",
         "scraythorne4y@bravesites.com"
        ],
        [
         "Beers",
         "tbeers51@imgur.com"
        ],
        [
         "Marrington",
         "omarrington52@fastcompany.com"
        ],
        [
         "Witnall",
         "lwitnall53@webnode.com"
        ],
        [
         "Boyington",
         "jboyington54@chron.com"
        ],
        [
         "Gouldstone",
         "ngouldstone56@taobao.com"
        ],
        [
         "Rignall",
         "lrignall57@printfriendly.com"
        ],
        [
         "Fielden",
         "dfielden59@newyorker.com"
        ],
        [
         null,
         "imaffy5a@ted.com"
        ],
        [
         "Haston",
         "ehaston5e@seattletimes.com"
        ],
        [
         "Rearie",
         "jrearie5f@marriott.com"
        ],
        [
         "Caulier",
         "ccaulier5h@booking.com"
        ],
        [
         "Gammill",
         "kgammill5k@mayoclinic.com"
        ],
        [
         "Huggens",
         "ghuggens5m@topsy.com"
        ],
        [
         "Sarll",
         "asarll5n@oracle.com"
        ],
        [
         "Gravenor",
         "vgravenor5o@reference.com"
        ],
        [
         "Shirt",
         "ashirt5p@weebly.com"
        ],
        [
         "Cockshott",
         "acockshott5q@blogger.com"
        ],
        [
         "Walbrook",
         "lwalbrook5s@eepurl.com"
        ],
        [
         "Richardt",
         "grichardt5t@mayoclinic.com"
        ],
        [
         "Achrameev",
         "sachrameev5w@chron.com"
        ],
        [
         "Flear",
         "kflear5y@imdb.com"
        ],
        [
         "Hurry",
         "thurry60@foxnews.com"
        ],
        [
         "Karmel",
         "hkarmel61@foxnews.com"
        ],
        [
         "Fookes",
         "wfookes62@networksolutions.com"
        ],
        [
         "Salmoni",
         "ysalmoni64@usatoday.com"
        ],
        [
         "Matteini",
         "kmatteini65@xinhuanet.com"
        ],
        [
         "Gladstone",
         "cgladstone66@digg.com"
        ],
        [
         "Robertelli",
         "srobertelli67@bizjournals.com"
        ],
        [
         "Andreini",
         "dandreini6c@netscape.com"
        ],
        [
         "Chaddock",
         "hchaddock6d@netlog.com"
        ],
        [
         "Rihosek",
         "rrihosek6e@forbes.com"
        ],
        [
         "Garretts",
         "egarretts6g@livejournal.com"
        ],
        [
         null,
         "kcourson6h@ebay.com"
        ],
        [
         "Lacer",
         "mlacer6k@ebay.com"
        ],
        [
         null,
         "agiovannelli6l@wix.com"
        ],
        [
         "Reeman",
         "vreeman6q@amazonaws.com"
        ],
        [
         "Ansteys",
         "bansteys6s@arstechnica.com"
        ],
        [
         "Denyagin",
         "adenyagin6t@mashable.com"
        ],
        [
         "Minet",
         "lminet6x@reference.com"
        ],
        [
         "Egle of Germany",
         "hegleofgermany70@studiopress.com"
        ],
        [
         "Dobbyn",
         "mdobbyn71@lycos.com"
        ],
        [
         "Ruddick",
         "hruddick72@flickr.com"
        ],
        [
         "Huddart",
         "vhuddart74@nifty.com"
        ],
        [
         "Deyenhardt",
         "sdeyenhardt75@canalblog.com"
        ],
        [
         "Westmarland",
         "twestmarland76@opera.com"
        ],
        [
         "Sired",
         "bsired77@go.com"
        ],
        [
         "Isaacs",
         "misaacs78@cafepress.com"
        ],
        [
         null,
         "epaternoster79@1688.com"
        ],
        [
         "Laurisch",
         "plaurisch7c@stumbleupon.com"
        ],
        [
         "Haffard",
         "shaffard7d@skype.com"
        ],
        [
         "Ashbridge",
         "cashbridge7e@list-manage.com"
        ],
        [
         "Castro",
         "gcastro7f@meetup.com"
        ],
        [
         "Rawlins",
         "crawlins7g@vinaora.com"
        ],
        [
         "Linscott",
         "blinscott7i@jiathis.com"
        ],
        [
         "Beavon",
         "cbeavon7j@twitpic.com"
        ],
        [
         "Bestar",
         "bbestar7k@paypal.com"
        ],
        [
         "Sirette",
         "asirette7l@goodreads.com"
        ],
        [
         "Rosson",
         "brosson7o@myspace.com"
        ],
        [
         "Estcourt",
         "westcourt7p@addtoany.com"
        ],
        [
         "Axten",
         "oaxten7r@nbcnews.com"
        ],
        [
         "Kuhne",
         "tkuhne7s@tmall.com"
        ],
        [
         "Tante",
         "stante7v@artisteer.com"
        ],
        [
         "Craythorne",
         "ccraythorne7x@skype.com"
        ],
        [
         null,
         "dlahive7y@globo.com"
        ],
        [
         "Leyman",
         "rleyman80@eventbrite.com"
        ],
        [
         "Woofendell",
         "cwoofendell81@ebay.com"
        ],
        [
         "Hayesman",
         "hhayesman83@livejournal.com"
        ],
        [
         "O'Kerin",
         "aokerin84@hao123.com"
        ],
        [
         "Volke",
         "nvolke85@comsenz.com"
        ],
        [
         "Luis",
         "cluis86@networksolutions.com"
        ],
        [
         "Cartmail",
         "rcartmail87@cnbc.com"
        ],
        [
         "Renoden",
         "mrenoden8b@time.com"
        ],
        [
         null,
         "sstarkings8c@diigo.com"
        ],
        [
         "Lugard",
         "klugard8d@dell.com"
        ],
        [
         "Johnsee",
         "mjohnsee8f@dedecms.com"
        ],
        [
         "Briffett",
         "abriffett8k@wix.com"
        ],
        [
         "Janz",
         "fjanz8l@nature.com"
        ],
        [
         "Tomkies",
         "mtomkies8o@vimeo.com"
        ],
        [
         null,
         "acanacott8p@vk.com"
        ],
        [
         "Roggers",
         "mroggers8t@woothemes.com"
        ],
        [
         "McGrayle",
         "hmcgrayle8u@addthis.com"
        ],
        [
         "Sorel",
         "asorel8v@reverbnation.com"
        ],
        [
         "Leap",
         "xleap8w@disqus.com"
        ],
        [
         "Funnell",
         "cfunnell8y@purevolume.com"
        ],
        [
         "Vasyaev",
         "jvasyaev90@sogou.com"
        ],
        [
         "Cottu",
         "lcottu92@reference.com"
        ],
        [
         null,
         "amackenzie93@homestead.com"
        ],
        [
         "Garrie",
         "dgarrie94@facebook.com"
        ],
        [
         "Stennine",
         "kstennine9d@economist.com"
        ],
        [
         "Fold",
         "bfold9g@twitpic.com"
        ],
        [
         "Shoemark",
         "cshoemark9h@yellowbook.com"
        ],
        [
         "Glisane",
         "cglisane9j@reverbnation.com"
        ],
        [
         "Jacobson",
         "pjacobson9l@yolasite.com"
        ],
        [
         "O'Fearguise",
         "nofearguise9m@surveymonkey.com"
        ],
        [
         "Franzoli",
         "kfranzoli9p@spotify.com"
        ],
        [
         "Welland",
         "lwelland9r@chron.com"
        ],
        [
         "MacAlees",
         "dmacalees9s@adobe.com"
        ],
        [
         "Spittles",
         "rspittles9t@nymag.com"
        ],
        [
         "Grigolon",
         "tgrigolon9u@skyrock.com"
        ],
        [
         "Birdsey",
         "ebirdsey9v@tinypic.com"
        ],
        [
         "Arundale",
         "marundale9w@multiply.com"
        ],
        [
         "Lewson",
         "clewsona0@engadget.com"
        ],
        [
         "Shawe",
         "ishawea1@histats.com"
        ],
        [
         null,
         "ecawtherya2@latimes.com"
        ],
        [
         "Leak",
         "wleaka4@imdb.com"
        ],
        [
         "Newlin",
         "cnewlina7@disqus.com"
        ],
        [
         "Purchon",
         "hpurchona9@phpbb.com"
        ],
        [
         "Lewsley",
         "glewsleyac@hubpages.com"
        ],
        [
         "Vittori",
         "jvittoriad@xing.com"
        ],
        [
         "Dreng",
         "udrengae@sfgate.com"
        ],
        [
         "Vlasenko",
         "avlasenkoag@skyrock.com"
        ],
        [
         "Grumble",
         "mgrumbleai@booking.com"
        ],
        [
         "Morch",
         "amorchal@reuters.com"
        ],
        [
         null,
         "afullbrookam@sciencedaily.com"
        ],
        [
         "Stiggles",
         "bstigglesap@istockphoto.com"
        ],
        [
         "Galliver",
         "mgalliverat@howstuffworks.com"
        ],
        [
         "Kleinplatz",
         "akleinplatzau@omniture.com"
        ],
        [
         "Harburtson",
         "lharburtsonaw@list-manage.com"
        ],
        [
         "Pelchat",
         "spelchataz@cargocollective.com"
        ],
        [
         "Woollacott",
         "ewoollacottb3@deliciousdays.com"
        ],
        [
         "Britch",
         "wbritchb4@163.com"
        ],
        [
         "Molian",
         "rmolianb5@sciencedirect.com"
        ],
        [
         "Cowcha",
         "rcowchab6@tumblr.com"
        ],
        [
         "Cramer",
         "ecramerb8@cdbaby.com"
        ],
        [
         "Rides",
         "aridesbb@github.com"
        ],
        [
         "O'Kelly",
         "aokellybd@slate.com"
        ],
        [
         "Radbourn",
         "jradbournbg@dropbox.com"
        ],
        [
         null,
         "gbaumanbh@sun.com"
        ],
        [
         "Matushevitz",
         "nmatushevitzbk@ehow.com"
        ],
        [
         null,
         "ihenkenbl@cbslocal.com"
        ],
        [
         "Barwise",
         "dbarwisebo@blogtalkradio.com"
        ],
        [
         "Braidon",
         "ebraidonbv@mac.com"
        ],
        [
         "Skene",
         "bskenebw@nymag.com"
        ],
        [
         "Turn",
         "mturnbx@deviantart.com"
        ],
        [
         "Poate",
         "mpoatec1@businessinsider.com"
        ],
        [
         null,
         "ccicettic3@smugmug.com"
        ],
        [
         "Hazlegrove",
         "hhazlegrovec4@bigcartel.com"
        ],
        [
         "Oldcroft",
         "koldcroftc5@ehow.com"
        ],
        [
         "Gullivent",
         "kgulliventc6@sohu.com"
        ],
        [
         "Snaddon",
         "zsnaddonc7@youku.com"
        ],
        [
         "Lounds",
         "jloundsc8@sbwire.com"
        ],
        [
         "Cheale",
         "achealeca@multiply.com"
        ],
        [
         "Cusack",
         "acusackcf@etsy.com"
        ],
        [
         "Cherrie",
         "lcherrieci@istockphoto.com"
        ],
        [
         "Gouldsmith",
         "cgouldsmithcj@elpais.com"
        ],
        [
         null,
         "vgorgerck@squidoo.com"
        ],
        [
         "Darnody",
         "adarnodycr@ucoz.com"
        ],
        [
         "Fosse",
         "tfossecs@shareasale.com"
        ],
        [
         "Livett",
         "elivettcv@howstuffworks.com"
        ],
        [
         "Lound",
         "eloundcw@hibu.com"
        ],
        [
         "Lakeman",
         "glakemancx@google.com"
        ],
        [
         "Fromant",
         "gfromantcy@wikispaces.com"
        ],
        [
         "Allderidge",
         "kallderidged2@springer.com"
        ],
        [
         "Nursey",
         "jnurseyd6@myspace.com"
        ],
        [
         "Scorey",
         "bscoreyd9@boston.com"
        ],
        [
         "Huie",
         "mhuieda@biblegateway.com"
        ],
        [
         "Burnand",
         "dburnanddb@delicious.com"
        ],
        [
         "Ullett",
         "iullettdc@example.com"
        ],
        [
         "Emanuel",
         "gemanuelde@shareasale.com"
        ],
        [
         "Egentan",
         "oegentandg@skype.com"
        ],
        [
         "Brownsworth",
         "bbrownsworthdh@stumbleupon.com"
        ],
        [
         "Cansdall",
         "ncansdalldl@wired.com"
        ],
        [
         "Kienzle",
         "pkienzledm@parallels.com"
        ],
        [
         "Fudge",
         "nfudgedq@wired.com"
        ],
        [
         "Van der Krui",
         "dvanderkruidt@purevolume.com"
        ],
        [
         "Smooth",
         "csmoothdv@weibo.com"
        ],
        [
         "Maryon",
         "ymaryondw@live.com"
        ],
        [
         "Matas",
         "omatasdz@hp.com"
        ],
        [
         "Emerton",
         "kemertone3@dropbox.com"
        ],
        [
         "Fridd",
         "gfridde4@samsung.com"
        ],
        [
         "Lassetter",
         "qlassettere5@eventbrite.com"
        ],
        [
         "Bithany",
         "lbithanye6@dagondesign.com"
        ],
        [
         "Johannesson",
         "djohannessone8@foxnews.com"
        ],
        [
         "Casebourne",
         "bcasebournee9@canalblog.com"
        ],
        [
         "Fitzhenry",
         "jfitzhenryea@hugedomains.com"
        ],
        [
         "Lammenga",
         "jlammengaec@scientificamerican.com"
        ],
        [
         "Demchen",
         "bdemchened@examiner.com"
        ],
        [
         "Fulford",
         "nfulfordee@walmart.com"
        ],
        [
         "Indgs",
         "kindgsef@ycombinator.com"
        ],
        [
         null,
         "cparmeterei@netlog.com"
        ],
        [
         "Matysiak",
         "cmatysiakej@nationalgeographic.com"
        ],
        [
         "Auten",
         "cautenem@answers.com"
        ],
        [
         null,
         "rcheelen@washingtonpost.com"
        ],
        [
         null,
         "ghennigereq@posterous.com"
        ],
        [
         "Furlong",
         "tfurlonger@sun.com"
        ],
        [
         "Pflieger",
         "upfliegerey@msn.com"
        ],
        [
         "Hrinchenko",
         "shrinchenkoez@howstuffworks.com"
        ],
        [
         "Houchin",
         "bhouchinf0@dell.com"
        ],
        [
         "Forrest",
         "aforrestf2@tinypic.com"
        ],
        [
         "Surcomb",
         "gsurcombf4@cocolog-nifty.com"
        ],
        [
         "Peiser",
         "epeiserf6@flickr.com"
        ],
        [
         "Coey",
         "kcoeyf7@live.com"
        ],
        [
         "Eatherton",
         "heathertonfa@blog.com"
        ],
        [
         "McPhail",
         "mmcphailfb@elpais.com"
        ],
        [
         "Scroggs",
         "nscroggsfc@jiathis.com"
        ],
        [
         null,
         "claugheranfe@google.com"
        ],
        [
         "Gyde",
         "mgydefh@imgur.com"
        ],
        [
         "Burnsall",
         "dburnsallfk@cloudflare.com"
        ],
        [
         "Bremond",
         "abremondfl@reference.com"
        ],
        [
         "Cliburn",
         "bcliburnfn@facebook.com"
        ],
        [
         null,
         "licomfp@marriott.com"
        ],
        [
         "Dawkins",
         "bdawkinsfs@gizmodo.com"
        ],
        [
         "Signore",
         "csignoreft@sciencedirect.com"
        ],
        [
         "Sly",
         "gslyfu@blogger.com"
        ],
        [
         "Lesser",
         "slesserfv@yellowbook.com"
        ],
        [
         "Flement",
         "mflementfy@stumbleupon.com"
        ],
        [
         "Hazeman",
         "dhazemanfz@samsung.com"
        ],
        [
         "Fisk",
         "afiskg1@disqus.com"
        ],
        [
         "Pankhurst.",
         "epankhurstg2@springer.com"
        ],
        [
         "Guilloneau",
         "cguilloneaug3@cdbaby.com"
        ],
        [
         "MacDaid",
         "wmacdaidg6@omniture.com"
        ],
        [
         "Ion",
         "tiong7@discovery.com"
        ],
        [
         null,
         "tstennardg8@chronoengine.com"
        ],
        [
         "Conachy",
         "rconachyga@acquirethisname.com"
        ],
        [
         "Shawyers",
         "hshawyersge@zdnet.com"
        ],
        [
         "Schultes",
         "gschultesgh@booking.com"
        ],
        [
         "Breckell",
         "abreckellgl@tinypic.com"
        ],
        [
         "Espinosa",
         "kespinosagm@cnbc.com"
        ],
        [
         "Gravenall",
         "tgravenallgo@etsy.com"
        ],
        [
         "Fobidge",
         "gfobidgegp@imgur.com"
        ],
        [
         "Borgne",
         "rborgnegq@topsy.com"
        ],
        [
         "Cranny",
         "lcrannygs@xing.com"
        ],
        [
         null,
         "jkeizmangu@fastcompany.com"
        ],
        [
         "Hustings",
         "rhustingsgv@list-manage.com"
        ],
        [
         "Bauldry",
         "abauldrygx@dagondesign.com"
        ],
        [
         "Janko",
         "jjankogz@surveymonkey.com"
        ],
        [
         "Maldin",
         "rmaldinh4@reddit.com"
        ],
        [
         null,
         "sfitchetth5@globo.com"
        ],
        [
         "Rugg",
         "eruggh6@businesswire.com"
        ],
        [
         "Powelee",
         "opoweleeh8@merriam-webster.com"
        ],
        [
         "Avramovitz",
         "lavramovitzh9@geocities.com"
        ],
        [
         "Tiffin",
         "ltiffinhb@netvibes.com"
        ],
        [
         "Di Lucia",
         "vdiluciahc@samsung.com"
        ],
        [
         "Nelligan",
         "dnelliganhf@wufoo.com"
        ],
        [
         "Ditchfield",
         "editchfieldhh@webnode.com"
        ],
        [
         "McEntagart",
         "hmcentagarthj@seattletimes.com"
        ],
        [
         "Bellee",
         "ibelleehl@hostgator.com"
        ],
        [
         "Lennon",
         "vlennonho@blogger.com"
        ],
        [
         "Huffey",
         "mhuffeyhp@printfriendly.com"
        ],
        [
         "Elks",
         "delkshq@blogspot.com"
        ],
        [
         "Padson",
         "epadsonhs@xinhuanet.com"
        ],
        [
         "Southerns",
         "bsouthernsht@netscape.com"
        ],
        [
         "Dorbin",
         "hdorbinhu@bloomberg.com"
        ],
        [
         "Hame",
         "phamehw@ning.com"
        ],
        [
         "Easum",
         "deasumhz@diigo.com"
        ],
        [
         "Lauga",
         "claugai0@tripod.com"
        ],
        [
         null,
         "mdacki1@mac.com"
        ],
        [
         "Ziebart",
         "dziebarti5@devhub.com"
        ],
        [
         "Hance",
         "ahancei7@sbwire.com"
        ],
        [
         "Sneezum",
         "dsneezumi9@go.com"
        ],
        [
         "Rudwell",
         "crudwellia@topsy.com"
        ],
        [
         "Hatter",
         "uhatterib@msn.com"
        ],
        [
         "Goulder",
         "sgoulderic@4shared.com"
        ],
        [
         "Gask",
         "agaskid@tinyurl.com"
        ],
        [
         "Yoselevitch",
         "byoselevitchie@sphinn.com"
        ],
        [
         "Orring",
         "borringif@examiner.com"
        ],
        [
         "Beastall",
         "ebeastallig@example.com"
        ],
        [
         null,
         "vcriagih@youku.com"
        ],
        [
         null,
         "schivrallij@vinaora.com"
        ],
        [
         "Beatey",
         "abeateyim@wired.com"
        ],
        [
         "Fray",
         "cfrayio@gizmodo.com"
        ],
        [
         "Moresby",
         "mmoresbyip@freewebs.com"
        ],
        [
         "Noller",
         "dnollerir@godaddy.com"
        ],
        [
         "Craighead",
         "acraigheadit@storify.com"
        ],
        [
         "Neaverson",
         "sneaversoniu@posterous.com"
        ],
        [
         "Allsebrook",
         "callsebrookiv@ft.com"
        ],
        [
         "Finlry",
         "mfinlryiy@addtoany.com"
        ],
        [
         "Shillaber",
         "ushillaberj0@jiathis.com"
        ],
        [
         "Torra",
         "rtorraj2@deliciousdays.com"
        ],
        [
         "Frid",
         "bfridj4@kickstarter.com"
        ],
        [
         "Bluck",
         "mbluckj5@indiegogo.com"
        ],
        [
         "Forre",
         "rforrej7@newyorker.com"
        ],
        [
         null,
         "ggriffej8@surveymonkey.com"
        ],
        [
         "Keough",
         "ckeoughja@pcworld.com"
        ],
        [
         "Escalante",
         "bescalantejd@parallels.com"
        ],
        [
         null,
         "gmccormickje@ft.com"
        ],
        [
         "Boness",
         "vbonessjg@bizjournals.com"
        ],
        [
         "Villalta",
         "tvillaltajh@howstuffworks.com"
        ],
        [
         null,
         "dlarticeji@netscape.com"
        ],
        [
         "Iori",
         "ciorijl@sitemeter.com"
        ],
        [
         "Stelljes",
         "sstelljesjm@tripod.com"
        ],
        [
         "McFarlan",
         "mmcfarlanjn@mtv.com"
        ],
        [
         "Clayworth",
         "gclayworthjo@nationalgeographic.com"
        ],
        [
         null,
         "mkhoterjq@hibu.com"
        ],
        [
         "Grinstead",
         "fgrinsteadjr@cbslocal.com"
        ],
        [
         "Birtwistle",
         "sbirtwistlejs@blog.com"
        ],
        [
         "Luckham",
         "cluckhamjt@vinaora.com"
        ],
        [
         "Whitham",
         "bwhithamju@alexa.com"
        ],
        [
         "Letteresse",
         "mletteressejx@netlog.com"
        ],
        [
         "Nyles",
         "ynylesjy@usnews.com"
        ],
        [
         "Capstake",
         "tcapstakek0@about.com"
        ],
        [
         "Dobson",
         "tdobsonk1@shutterfly.com"
        ],
        [
         "Astley",
         "rastleyk4@zdnet.com"
        ],
        [
         "Fidian",
         "dfidiank5@chicagotribune.com"
        ],
        [
         "Bernardos",
         "cbernardosk7@youtube.com"
        ],
        [
         "Tompsett",
         "stompsettk9@photobucket.com"
        ],
        [
         "Dearell",
         "bdearellkb@wunderground.com"
        ],
        [
         "Braban",
         "rbrabankc@phpbb.com"
        ],
        [
         "Etherington",
         "tetheringtonkf@fotki.com"
        ],
        [
         "McGillecole",
         "cmcgillecoleki@mtv.com"
        ],
        [
         "Giffon",
         "ggiffonkj@angelfire.com"
        ],
        [
         null,
         "awiltshawkk@mashable.com"
        ],
        [
         "Skatcher",
         "pskatcherkl@discovery.com"
        ],
        [
         null,
         "lgallamorekm@blogs.com"
        ],
        [
         "Siburn",
         "dsiburnkn@marriott.com"
        ],
        [
         "Discombe",
         "kdiscombekp@myspace.com"
        ],
        [
         null,
         "avarneykq@scientificamerican.com"
        ],
        [
         "Adamovicz",
         "aadamoviczks@mayoclinic.com"
        ],
        [
         "Denington",
         "cdeningtonku@washingtonpost.com"
        ],
        [
         "Eager",
         "aeagerkv@alexa.com"
        ],
        [
         "Brambley",
         "vbrambleyky@ning.com"
        ],
        [
         "Franks",
         "cfrankskz@angelfire.com"
        ],
        [
         "Detloff",
         "sdetloffl1@hibu.com"
        ],
        [
         "O'Day",
         "godayl2@mlb.com"
        ],
        [
         "Dryburgh",
         "gdryburghl3@freewebs.com"
        ],
        [
         "Tole",
         "ttolel5@sun.com"
        ],
        [
         "Grieves",
         "egrievesl7@bigcartel.com"
        ],
        [
         "Sepey",
         "dsepeyl9@tumblr.com"
        ],
        [
         "Woofinden",
         "awoofindenla@sogou.com"
        ],
        [
         "Skottle",
         "dskottleld@cisco.com"
        ],
        [
         "Wimpenny",
         "hwimpennyle@mashable.com"
        ],
        [
         "Sommerly",
         "ssommerlylh@aol.com"
        ],
        [
         "Comfort",
         "bcomfortli@parallels.com"
        ],
        [
         "Cassedy",
         "icassedylk@icq.com"
        ],
        [
         "Baress",
         "nbaresslm@ycombinator.com"
        ],
        [
         "Seaborne",
         "cseaborneln@forbes.com"
        ],
        [
         "Reinbeck",
         "areinbecklo@hibu.com"
        ],
        [
         "Raincin",
         "traincinlp@buzzfeed.com"
        ],
        [
         "Early",
         "jearlylq@oracle.com"
        ],
        [
         "Coopland",
         "bcooplandlt@reference.com"
        ],
        [
         "Hawson",
         "ihawsonlu@barnesandnoble.com"
        ],
        [
         "Brenneke",
         "mbrennekelw@disqus.com"
        ],
        [
         "Sailor",
         "asailorm0@angelfire.com"
        ],
        [
         "Scamel",
         "dscamelm3@hubpages.com"
        ],
        [
         "Glassopp",
         "bglassoppm5@purevolume.com"
        ],
        [
         "Turford",
         "eturfordm6@purevolume.com"
        ],
        [
         "Cansdell",
         "fcansdellm8@godaddy.com"
        ],
        [
         null,
         "wflewittm9@typepad.com"
        ],
        [
         "Saltman",
         "asaltmanmb@tinyurl.com"
        ],
        [
         "Tollady",
         "ctolladymd@fotki.com"
        ],
        [
         null,
         "tgainme@cdbaby.com"
        ],
        [
         "Perrie",
         "pperriemf@purevolume.com"
        ],
        [
         "Durran",
         "mdurranmj@cbslocal.com"
        ],
        [
         "Ondrus",
         "londrusmk@acquirethisname.com"
        ],
        [
         "Harris",
         "charrisml@howstuffworks.com"
        ],
        [
         "Tynan",
         "atynanmo@yellowbook.com"
        ],
        [
         "Caren",
         "pcarenmp@wix.com"
        ],
        [
         "Tompkiss",
         "ntompkissmq@vistaprint.com"
        ],
        [
         "Lowndsbrough",
         "llowndsbroughmr@vimeo.com"
        ],
        [
         "Postill",
         "bpostillmu@addtoany.com"
        ],
        [
         null,
         "hfarringtonmv@symantec.com"
        ],
        [
         "Van de Velde",
         "lvandeveldemy@youku.com"
        ],
        [
         "Rosberg",
         "arosbergmz@nature.com"
        ],
        [
         "Frise",
         "afrisen0@surveymonkey.com"
        ],
        [
         "Dupoy",
         "adupoyn1@kickstarter.com"
        ],
        [
         "Langcastle",
         "clangcastlen3@ucoz.com"
        ],
        [
         "Jaffra",
         "rjaffran4@nifty.com"
        ],
        [
         "Gailor",
         "ngailorn5@ibm.com"
        ],
        [
         "Davidof",
         "cdavidofn8@cnet.com"
        ],
        [
         "Filoniere",
         "efilonieren9@nydailynews.com"
        ],
        [
         "Tyreman",
         "ktyremannb@hc360.com"
        ],
        [
         null,
         "apenhaleuracknc@nbcnews.com"
        ],
        [
         "Jouen",
         "rjouennd@technorati.com"
        ],
        [
         "Goulding",
         "kgouldingne@trellian.com"
        ],
        [
         "Levington",
         "blevingtonnh@webmd.com"
        ],
        [
         "Jaffa",
         "ajaffani@mysql.com"
        ],
        [
         "Pea",
         "tpeanl@moonfruit.com"
        ],
        [
         "Huerta",
         "nhuertanm@shutterfly.com"
        ],
        [
         "Dawdry",
         "edawdrynr@meetup.com"
        ],
        [
         null,
         "mmcguinessns@linkedin.com"
        ],
        [
         "Janosevic",
         "ejanosevicnu@hao123.com"
        ],
        [
         "Benck",
         "lbencknx@elpais.com"
        ],
        [
         null,
         "rdicteo0@qq.com"
        ],
        [
         "Stovell",
         "hstovello3@xinhuanet.com"
        ],
        [
         null,
         "gwoodroffeo5@mozilla.com"
        ],
        [
         "Hawken",
         "ehawkeno7@163.com"
        ],
        [
         "Murcott",
         "cmurcotto8@cdbaby.com"
        ],
        [
         "Burnyate",
         "eburnyateoa@ft.com"
        ],
        [
         null,
         "shucksteppoc@buzzfeed.com"
        ],
        [
         "Burnall",
         "aburnallod@bluehost.com"
        ],
        [
         "O'Kane",
         "sokaneoi@fc2.com"
        ],
        [
         "Fortune",
         "tfortuneol@vimeo.com"
        ],
        [
         "Palatino",
         "epalatinoom@accuweather.com"
        ],
        [
         "Grinyer",
         "wgrinyeron@foxnews.com"
        ],
        [
         "Dunstone",
         "tdunstoneop@photobucket.com"
        ],
        [
         "Bosquet",
         "hbosquetoq@engadget.com"
        ],
        [
         "Bisatt",
         "gbisattou@rediff.com"
        ],
        [
         "Bruton",
         "nbrutonov@4shared.com"
        ],
        [
         "Ropp",
         "eroppow@latimes.com"
        ],
        [
         null,
         "flyttonp2@tripod.com"
        ],
        [
         "Omond",
         "aomondpa@seattletimes.com"
        ],
        [
         "McRoberts",
         "amcrobertspc@qq.com"
        ],
        [
         "Chessell",
         "fchessellpe@meetup.com"
        ],
        [
         "Carberry",
         "hcarberryph@sohu.com"
        ],
        [
         "Francesc",
         "efrancescpi@webmd.com"
        ],
        [
         "Beautyman",
         "abeautymanpk@about.com"
        ],
        [
         "MacCombe",
         "mmaccombepl@smugmug.com"
        ],
        [
         "Swinbourne",
         "tswinbournepm@wikia.com"
        ],
        [
         "Hamilton",
         "vhamiltonpo@gizmodo.com"
        ],
        [
         "Itzig",
         "gitzigpq@mlb.com"
        ],
        [
         "Jehu",
         "ojehupr@alexa.com"
        ],
        [
         "MacRorie",
         "bmacroriept@1688.com"
        ],
        [
         "Chestle",
         "vchestlepw@bizjournals.com"
        ],
        [
         "Fulop",
         "bfuloppx@xrea.com"
        ],
        [
         "Gilfillan",
         "bgilfillanpy@mapquest.com"
        ],
        [
         "Howlett",
         "lhowlettq0@theguardian.com"
        ],
        [
         null,
         "ddielhennq3@sphinn.com"
        ],
        [
         "Tomkies",
         "mtomkiesq5@instagram.com"
        ],
        [
         "Butland",
         "sbutlandq7@shareasale.com"
        ],
        [
         "Devil",
         "ddevilq9@indiatimes.com"
        ],
        [
         "Dikes",
         "mdikesqa@mac.com"
        ],
        [
         "Blaylock",
         "ablaylockqc@webmd.com"
        ],
        [
         "Milsap",
         "imilsapqd@java.com"
        ],
        [
         "Clandillon",
         "aclandillonqg@about.com"
        ],
        [
         "Ferrer",
         "gferrerqi@about.com"
        ],
        [
         "Roscow",
         "sroscowqk@xinhuanet.com"
        ],
        [
         null,
         "gbehnekeqm@amazon.com"
        ],
        [
         "Leal",
         "alealqn@vistaprint.com"
        ],
        [
         "Keynes",
         "skeynesqq@scribd.com"
        ],
        [
         "Jeannesson",
         "ajeannessonqr@mysql.com"
        ],
        [
         "Kennler",
         "skennlerqv@dell.com"
        ],
        [
         "Stoke",
         "bstokeqw@dropbox.com"
        ],
        [
         "Whorton",
         "lwhortonqx@skype.com"
        ],
        [
         "Nestor",
         "cnestorqz@istockphoto.com"
        ],
        [
         "Gerardin",
         "agerardinr1@bandcamp.com"
        ],
        [
         "Kirley",
         "kkirleyr2@phpbb.com"
        ],
        [
         "Hanbridge",
         "ahanbridger3@webs.com"
        ],
        [
         "Chilton",
         "schiltonr9@devhub.com"
        ],
        [
         "Artist",
         "martistra@networksolutions.com"
        ],
        [
         null,
         "rdavisrb@buzzfeed.com"
        ],
        [
         "Grugerr",
         "pgrugerrrd@zimbio.com"
        ],
        [
         "Adamek",
         "gadamekrg@skyrock.com"
        ],
        [
         "Janos",
         "cjanosrm@mediafire.com"
        ],
        [
         "Stokey",
         "cstokeyrn@jigsy.com"
        ],
        [
         "Kepp",
         "dkepprq@icq.com"
        ]
       ],
       "datasetInfos": [],
       "dbfsResultPath": null,
       "isJsonSchema": true,
       "metadata": {},
       "overflow": false,
       "plotOptions": {
        "customPlotOptions": {},
        "displayType": "table",
        "pivotAggregation": null,
        "pivotColumns": null,
        "xColumns": null,
        "yColumns": null
       },
       "removedWidgets": [],
       "schema": [
        {
         "metadata": "{}",
         "name": "last_name",
         "type": "\"string\""
        },
        {
         "metadata": "{}",
         "name": "email",
         "type": "\"string\""
        }
       ],
       "type": "table"
      }
     },
     "output_type": "display_data"
    }
   ],
   "source": [
    "# Write your code using the Spark Function\n",
    "last_name = df.filter(col('email').like('%.com')).select('last_name','email')\n",
    "last_name.show()\n",
    "display(last_name)"
   ]
  },
  {
   "cell_type": "markdown",
   "metadata": {
    "application/vnd.databricks.v1+cell": {
     "cellMetadata": {},
     "inputWidgets": {},
     "nuid": "a11d88ea-de35-4d7e-bf61-64039a67ca9b",
     "showTitle": false,
     "title": ""
    }
   },
   "source": [
    "d\n",
    "<b> How many employees have an email address that contains their last name?"
   ]
  },
  {
   "cell_type": "code",
   "execution_count": 0,
   "metadata": {
    "application/vnd.databricks.v1+cell": {
     "cellMetadata": {
      "byteLimit": 2048000,
      "rowLimit": 10000
     },
     "inputWidgets": {},
     "nuid": "039be24c-ad66-40d3-9673-2e1b1654a4b2",
     "showTitle": false,
     "title": ""
    }
   },
   "outputs": [
    {
     "output_type": "stream",
     "name": "stdout",
     "output_type": "stream",
     "text": [
      "+-----------------------------------+\n|count of email with thier last name|\n+-----------------------------------+\n|                                795|\n+-----------------------------------+\n\n"
     ]
    }
   ],
   "source": [
    "# Write your code using the Spark Function\n",
    "df1 = df.withColumn(\"email_lower\", lower(col(\"email\")))\n",
    "# df1.show()\n",
    "df2 = df1.withColumn(\"last_name_lower\", lower(col(\"last_name\")))\n",
    "\n",
    "email_with_last_name = df2.filter(expr(\"email LIKE CONCAT('%', last_name_lower, '%')\")).select(count('email').alias('count of email with thier last name'))\n",
    "email_with_last_name.show()"
   ]
  },
  {
   "cell_type": "markdown",
   "metadata": {
    "application/vnd.databricks.v1+cell": {
     "cellMetadata": {},
     "inputWidgets": {},
     "nuid": "bb4d84da-acf9-4569-b92a-c4f5b15af598",
     "showTitle": false,
     "title": ""
    }
   },
   "source": [
    "d\n",
    "<b> What is the email of the employee with the first name that contains a space character?"
   ]
  },
  {
   "cell_type": "code",
   "execution_count": 0,
   "metadata": {
    "application/vnd.databricks.v1+cell": {
     "cellMetadata": {
      "byteLimit": 2048000,
      "rowLimit": 10000
     },
     "inputWidgets": {},
     "nuid": "15524a1b-ff80-4bdb-aa68-a33535ff01e2",
     "showTitle": false,
     "title": ""
    }
   },
   "outputs": [
    {
     "output_type": "stream",
     "name": "stdout",
     "output_type": "stream",
     "text": [
      "email of the employee with the first name that contains a space character is None\n"
     ]
    }
   ],
   "source": [
    "# Write your code using the Spark Function\n",
    "first_name = df.filter(col('first_name').like('% %')).select('first_name','email')\n",
    "first_name.show()"
   ]
  },
  {
   "cell_type": "markdown",
   "metadata": {
    "application/vnd.databricks.v1+cell": {
     "cellMetadata": {},
     "inputWidgets": {},
     "nuid": "034bbac0-3f1c-4aef-ba04-3f30b2851746",
     "showTitle": false,
     "title": ""
    }
   },
   "source": [
    "d\n",
    "<b> What is the email of the employee with the last name that contains a hyphen character?"
   ]
  },
  {
   "cell_type": "code",
   "execution_count": 0,
   "metadata": {
    "application/vnd.databricks.v1+cell": {
     "cellMetadata": {
      "byteLimit": 2048000,
      "rowLimit": 10000
     },
     "inputWidgets": {},
     "nuid": "d7726458-0987-453c-b3d6-48389fd738df",
     "showTitle": false,
     "title": ""
    }
   },
   "outputs": [
    {
     "output_type": "stream",
     "name": "stdout",
     "output_type": "stream",
     "text": [
      "+---------------+--------------------+\n|      last_name|               email|\n+---------------+--------------------+\n|Lambert-Ciorwyn|llambertciorwyn3d...|\n+---------------+--------------------+\n\n"
     ]
    }
   ],
   "source": [
    "# Write your code using the Spark Function\n",
    "last_name = df.filter(col('last_name').like('%-%')).select('last_name','email')\n",
    "last_name.show()"
   ]
  }
 ],
 "metadata": {
  "application/vnd.databricks.v1+notebook": {
   "dashboards": [],
   "language": "python",
   "notebookMetadata": {
    "pythonIndentUnit": 2
   },
   "notebookName": "Databircks-(Basic String Manupulation Transformation)",
   "widgets": {}
  }
 },
 "nbformat": 4,
 "nbformat_minor": 0
}
